{
 "cells": [
  {
   "cell_type": "markdown",
   "id": "54dac196",
   "metadata": {},
   "source": [
    "# Redes Neuronales\n",
    "## Fashion detector "
   ]
  },
  {
   "cell_type": "code",
   "execution_count": null,
   "id": "668a86b7",
   "metadata": {},
   "outputs": [],
   "source": [
    "# dependencias necesarias\n",
    "from pathlib import Path\n",
    "\n",
    "import numpy as np\n",
    "import pandas as pd\n",
    "\n",
    "import matplotlib.pyplot as plt\n",
    "\n",
    "import seaborn as sns\n",
    "\n",
    "from tensorflow.keras.models import Sequential\n",
    "from tensorflow.keras.layers import Dense, Input, Dropout, Convolution2D, MaxPooling2D, Flatten\n",
    "from tensorflow.keras.preprocessing.image import load_img, img_to_array, ImageDataGenerator\n",
    "from tensorflow.keras.preprocessing import image_dataset_from_directory\n",
    "from tensorflow.keras.datasets import fashion_mnist\n",
    "\n",
    "from sklearn.metrics import accuracy_score, confusion_matrix\n",
    "\n",
    "# configuración para que las imágenes se vean dentro del notebook\n",
    "%matplotlib inline"
   ]
  },
  {
   "cell_type": "code",
   "execution_count": null,
   "id": "350c5cab",
   "metadata": {},
   "outputs": [],
   "source": [
    "# obtenemos las imágenes (x) y salidas o categorías (y) del dataset\n",
    "(x_train, y_train), (x_test, y_test) = fashion_mnist.load_data()"
   ]
  },
  {
   "cell_type": "markdown",
   "id": "189e6971",
   "metadata": {},
   "source": [
    "### 1) Análisis exploratorio sobre el conjunto de datos.  \n",
    "Este es un dataset de 70000 imágenes en blanco y negro de 28x28 pixeles, de 10 categorías de prendas, divididas en un set de train con 60000 imágenes y otro de test de 10000. "
   ]
  },
  {
   "cell_type": "code",
   "execution_count": null,
   "id": "6cb5def9",
   "metadata": {
    "scrolled": true
   },
   "outputs": [],
   "source": [
    "print('Cantidad y tamaño de imágenes de train:')\n",
    "x_train.shape  "
   ]
  },
  {
   "cell_type": "code",
   "execution_count": null,
   "id": "1933c049",
   "metadata": {
    "scrolled": true
   },
   "outputs": [],
   "source": [
    "print('Cantidad y tamaño de imágenes de test:')\n",
    "x_test.shape"
   ]
  },
  {
   "cell_type": "code",
   "execution_count": null,
   "id": "dac4f592",
   "metadata": {},
   "outputs": [],
   "source": [
    "# clases de prendas\n",
    "CLASES = [\"T-shirt/top\", \"Trouser\", \"Pullover\", \n",
    "          \"Dress\", \"Coat\", \"Sandal\", \"Shirt\",\n",
    "          \"Sneaker\", \"Bag\", \"Ankle boot\"]"
   ]
  },
  {
   "cell_type": "markdown",
   "id": "59a07da8",
   "metadata": {},
   "source": [
    "Ejemplos de la imágenes sin modificaciones:"
   ]
  },
  {
   "cell_type": "code",
   "execution_count": null,
   "id": "d245b19e",
   "metadata": {},
   "outputs": [],
   "source": [
    "plt.figure(figsize=(10,10))\n",
    "for i in range(25):\n",
    "    plt.subplot(5,5,i+1)\n",
    "    plt.xticks([])\n",
    "    plt.yticks([])\n",
    "    plt.grid(False)\n",
    "    plt.imshow(x_train[i], cmap=plt.cm.binary)\n",
    "    plt.xlabel(CLASES[y_train[i]])\n",
    "plt.show()"
   ]
  },
  {
   "cell_type": "markdown",
   "id": "81fd2cd2",
   "metadata": {},
   "source": [
    "Las categorías de prendas son las siguientes:"
   ]
  },
  {
   "cell_type": "code",
   "execution_count": null,
   "id": "7276908e",
   "metadata": {},
   "outputs": [],
   "source": [
    "for clase in CLASES:\n",
    "    print(clase)"
   ]
  },
  {
   "cell_type": "markdown",
   "id": "0612a21e",
   "metadata": {},
   "source": [
    "A partir de los gráficos siguientes, podemos notar que el set de datos está completamente balanceado tanto en train como test. En el set de train, hay 6000 imágenes de cada tipo de prenda, mientras que en el set de test hay 1000 imágenes de cada uno."
   ]
  },
  {
   "cell_type": "code",
   "execution_count": null,
   "id": "d396f694",
   "metadata": {
    "scrolled": true
   },
   "outputs": [],
   "source": [
    "# función para contar y graficar la cantidad de prendas por tipo\n",
    "def distribucion(salidas, titulo=''):\n",
    "    CANTIDADES = [0,0,0,0,0,0,0,0,0,0]\n",
    "    for salida in salidas:\n",
    "        CANTIDADES[salida] += 1\n",
    "        \n",
    "    display(titulo)\n",
    "    plt.pie(CANTIDADES, labels=CLASES, autopct=\"%0.1f %%\")"
   ]
  },
  {
   "cell_type": "code",
   "execution_count": null,
   "id": "c1958e2e",
   "metadata": {
    "scrolled": true
   },
   "outputs": [],
   "source": [
    "distribucion(y_train, 'Distribución de train')"
   ]
  },
  {
   "cell_type": "code",
   "execution_count": null,
   "id": "3aa61c1f",
   "metadata": {
    "scrolled": false
   },
   "outputs": [],
   "source": [
    "distribucion(y_test, 'Distribución de test')"
   ]
  },
  {
   "cell_type": "markdown",
   "id": "b4e1a3a9",
   "metadata": {},
   "source": [
    "### 2) Machine Learning. "
   ]
  },
  {
   "cell_type": "markdown",
   "id": "d321611a",
   "metadata": {},
   "source": [
    "##### Reescalar imágenes  \n",
    "En primera instancia reescalamos los valores de las imágenes, tanto en test como en train. Esto se puede comprobar en los siguientes gráficos que muestran el rango de valores que posee una imagen del dataset antes y después de reescalar."
   ]
  },
  {
   "cell_type": "code",
   "execution_count": null,
   "id": "251892c2",
   "metadata": {},
   "outputs": [],
   "source": [
    "# reescalamos los valores de las imágenes\n",
    "x_train_r = x_train/ 255.0\n",
    "x_test_r = x_test / 255.0"
   ]
  },
  {
   "cell_type": "code",
   "execution_count": null,
   "id": "6e50b6ad",
   "metadata": {},
   "outputs": [],
   "source": [
    "print('Antes de escalar:')\n",
    "plt.figure()\n",
    "plt.imshow(x_train[0])\n",
    "plt.colorbar()\n",
    "plt.grid(False)\n",
    "plt.show()"
   ]
  },
  {
   "cell_type": "code",
   "execution_count": null,
   "id": "f4cea69f",
   "metadata": {},
   "outputs": [],
   "source": [
    "print('Después de escalar:')\n",
    "plt.figure()\n",
    "plt.imshow(x_train_r[0])\n",
    "plt.colorbar()\n",
    "plt.grid(False)\n",
    "plt.show()"
   ]
  },
  {
   "cell_type": "markdown",
   "id": "e19318a6",
   "metadata": {},
   "source": [
    "##### Modificar el tamaño de las imágenes \n",
    "En cuanto al tamaño de las imágenes, optamos por NO modificarlo, debido a que ya es lo suficientemente pequeño como para entrenar sin demorar demasiado."
   ]
  },
  {
   "cell_type": "code",
   "execution_count": null,
   "id": "551b2841",
   "metadata": {},
   "outputs": [],
   "source": [
    "# función para graficar la curva de aprendizaje\n",
    "def curva_aprendizaje(historial):\n",
    "    plt.plot(historial.history['accuracy'], label='train')\n",
    "    plt.plot(historial.history['val_accuracy'], label='test')\n",
    "    plt.title('Accuracy over train epochs')\n",
    "    plt.ylabel('Accuracy')\n",
    "    plt.xlabel('Epoch')\n",
    "    plt.legend(loc='upper left')\n",
    "    plt.show()"
   ]
  },
  {
   "cell_type": "code",
   "execution_count": null,
   "id": "99901d1e",
   "metadata": {},
   "outputs": [],
   "source": [
    "# función para graficar la matriz de confusión\n",
    "def matriz_confusion(modelo, dt_x, dt_y, title=''):\n",
    "    predictions = modelo.predict(dt_x)\n",
    "    pred_label = [np.argmax(i) for i in predictions]\n",
    "    labels = dt_y\n",
    "    \n",
    "    conf_matrix = confusion_matrix(labels, pred_label)\n",
    "\n",
    "    ax = sns.heatmap(conf_matrix, \n",
    "                cmap='Blues', \n",
    "                xticklabels=CLASES, \n",
    "                yticklabels=CLASES,\n",
    "                annot=True,\n",
    "                fmt='d')\n",
    "\n",
    "    plt.xlabel('Predicted class') \n",
    "    plt.ylabel('True class') \n",
    "    \n",
    "    print(title)\n",
    "    plt.show()"
   ]
  },
  {
   "cell_type": "markdown",
   "id": "32fc5229",
   "metadata": {},
   "source": [
    "#### RED NEURONAL 1:\n",
    "* Tipo: MLP.\n",
    "* Capas: 4 densas, con 30, 20, 20 y 10 neuronas en ese orden.\n",
    "* Dropout: 20% en cada capa.\n",
    "* Función de activación: 'tanh' en cada capa y 'softmax' en la salida.\n",
    "* Épocas: 25.\n",
    "* Tamaño del batch: 250."
   ]
  },
  {
   "cell_type": "code",
   "execution_count": null,
   "id": "82a223dd",
   "metadata": {},
   "outputs": [],
   "source": [
    "model_mlp_1 = Sequential([\n",
    "    \n",
    "    Flatten(input_shape=(28, 28)),\n",
    "    \n",
    "    Dense(30, activation='tanh'),\n",
    "    Dropout(0.2),\n",
    "    \n",
    "    Dense(20, activation='tanh'),\n",
    "    Dropout(0.2),\n",
    "            \n",
    "    Dense(20, activation='tanh'),\n",
    "    Dropout(0.2),\n",
    "\n",
    "    Dense(len(CLASES), activation='softmax'),\n",
    "])\n",
    "\n",
    "model_mlp_1.compile(\n",
    "    optimizer='adam',\n",
    "    loss='sparse_categorical_crossentropy',\n",
    "    metrics=['accuracy',],\n",
    ")\n",
    "    \n",
    "model_mlp_1.summary()"
   ]
  },
  {
   "cell_type": "code",
   "execution_count": null,
   "id": "0d879a56",
   "metadata": {},
   "outputs": [],
   "source": [
    "history_mlp_1 = model_mlp_1.fit(\n",
    "    x_train_r,\n",
    "    y_train,\n",
    "    epochs=25,\n",
    "    batch_size=250,\n",
    "    validation_data=(x_test_r, y_test)\n",
    ")"
   ]
  },
  {
   "cell_type": "code",
   "execution_count": null,
   "id": "75e86941",
   "metadata": {
    "scrolled": true
   },
   "outputs": [],
   "source": [
    "curva_aprendizaje(history_mlp_1)"
   ]
  },
  {
   "cell_type": "code",
   "execution_count": null,
   "id": "c67b8e5e",
   "metadata": {},
   "outputs": [],
   "source": [
    "matriz_confusion(model_mlp_1, x_train_r, y_train, 'Matriz de confusión - Train')"
   ]
  },
  {
   "cell_type": "code",
   "execution_count": null,
   "id": "4995c483",
   "metadata": {
    "scrolled": true
   },
   "outputs": [],
   "source": [
    "matriz_confusion(model_mlp_1, x_test_r, y_test, 'Matriz de confusión - Test')"
   ]
  },
  {
   "cell_type": "markdown",
   "id": "e3866d3f",
   "metadata": {},
   "source": [
    "#### RED NEURONAL 2:\n",
    "* Tipo: MLP.\n",
    "* Capas: 4 densas, con 30, 20, 20 y 10 neuronas en ese orden.\n",
    "* Dropout: 50% en cada capa.\n",
    "* Función de activación: 'tanh' en cada capa y 'softmax' en la salida.\n",
    "* Épocas: 25.\n",
    "* Tamaño del batch: 250."
   ]
  },
  {
   "cell_type": "code",
   "execution_count": null,
   "id": "37360685",
   "metadata": {},
   "outputs": [],
   "source": [
    "model_mlp_2 = Sequential([\n",
    "    \n",
    "    Flatten(input_shape=(28, 28)),\n",
    "    \n",
    "    Dense(30, activation='tanh'),\n",
    "    Dropout(0.5),\n",
    "    \n",
    "    Dense(20, activation='tanh'),\n",
    "    Dropout(0.5),\n",
    "            \n",
    "    Dense(20, activation='tanh'),\n",
    "    Dropout(0.5),\n",
    "\n",
    "    Dense(len(CLASES), activation='softmax'),\n",
    "])\n",
    "\n",
    "model_mlp_2.compile(\n",
    "    optimizer='adam',\n",
    "    loss='sparse_categorical_crossentropy',\n",
    "    metrics=['accuracy',],\n",
    ")\n",
    "    \n",
    "model_mlp_2.summary()"
   ]
  },
  {
   "cell_type": "code",
   "execution_count": null,
   "id": "db9c5931",
   "metadata": {},
   "outputs": [],
   "source": [
    "history_mlp_2 = model_mlp_2.fit(\n",
    "    x_train_r,\n",
    "    y_train,\n",
    "    epochs=25,\n",
    "    batch_size=250,\n",
    "    validation_data=(x_test_r, y_test)\n",
    ")"
   ]
  },
  {
   "cell_type": "code",
   "execution_count": null,
   "id": "5f90db48",
   "metadata": {},
   "outputs": [],
   "source": [
    "curva_aprendizaje(history_mlp_2)"
   ]
  },
  {
   "cell_type": "code",
   "execution_count": null,
   "id": "9e60c2ff",
   "metadata": {
    "scrolled": true
   },
   "outputs": [],
   "source": [
    "matriz_confusion(model_mlp_2, x_train_r, y_train, 'Matriz de confusión - Train')"
   ]
  },
  {
   "cell_type": "code",
   "execution_count": null,
   "id": "d4a76cf3",
   "metadata": {
    "scrolled": true
   },
   "outputs": [],
   "source": [
    "matriz_confusion(model_mlp_2, x_test_r, y_test, 'Matriz de confusión - Test')"
   ]
  },
  {
   "cell_type": "markdown",
   "id": "068d635d",
   "metadata": {},
   "source": [
    "#### RED NEURONAL 3:\n",
    "* Tipo: MLP.\n",
    "* Capas: 10 densas, con 30, 30, 30, 20, 20, 20, 10, 10, 10 y 10 neuronas en ese orden.\n",
    "* Dropout: 20% en cada capa.\n",
    "* Función de activación: 'tanh' en cada capa y 'softmax' en la salida.\n",
    "* Épocas: 25.\n",
    "* Tamaño del batch: 250."
   ]
  },
  {
   "cell_type": "code",
   "execution_count": null,
   "id": "cc005386",
   "metadata": {},
   "outputs": [],
   "source": [
    "model_mlp_3 = Sequential([\n",
    "    \n",
    "    Flatten(input_shape=(28, 28)),\n",
    "    \n",
    "    Dense(30, activation='tanh'),\n",
    "    Dropout(0.2),\n",
    "    \n",
    "    Dense(30, activation='tanh'),\n",
    "    Dropout(0.2),\n",
    "    \n",
    "    Dense(30, activation='tanh'),\n",
    "    Dropout(0.2),\n",
    "    \n",
    "    Dense(20, activation='tanh'),\n",
    "    Dropout(0.2),\n",
    "            \n",
    "    Dense(20, activation='tanh'),\n",
    "    Dropout(0.2),\n",
    "    \n",
    "    Dense(20, activation='tanh'),\n",
    "    Dropout(0.2),\n",
    "    \n",
    "    Dense(10, activation='tanh'),\n",
    "    Dropout(0.2),\n",
    "    \n",
    "    Dense(10, activation='tanh'),\n",
    "    Dropout(0.2),\n",
    "    \n",
    "    Dense(10, activation='tanh'),\n",
    "    Dropout(0.2),\n",
    "\n",
    "    Dense(len(CLASES), activation='softmax'),\n",
    "])\n",
    "\n",
    "model_mlp_3.compile(\n",
    "    optimizer='adam',\n",
    "    loss='sparse_categorical_crossentropy',\n",
    "    metrics=['accuracy',],\n",
    ")\n",
    "    \n",
    "model_mlp_3.summary()"
   ]
  },
  {
   "cell_type": "code",
   "execution_count": null,
   "id": "615075f6",
   "metadata": {},
   "outputs": [],
   "source": [
    "history_mlp_3 = model_mlp_3.fit(\n",
    "    x_train_r,\n",
    "    y_train,\n",
    "    epochs=25,\n",
    "    batch_size=250,\n",
    "    validation_data=(x_test_r, y_test)\n",
    ")"
   ]
  },
  {
   "cell_type": "code",
   "execution_count": null,
   "id": "4e012203",
   "metadata": {},
   "outputs": [],
   "source": [
    "curva_aprendizaje(history_mlp_3)"
   ]
  },
  {
   "cell_type": "code",
   "execution_count": null,
   "id": "d11520f2",
   "metadata": {},
   "outputs": [],
   "source": [
    "matriz_confusion(model_mlp_3, x_train_r, y_train, 'Matriz de confusión - Train')"
   ]
  },
  {
   "cell_type": "code",
   "execution_count": null,
   "id": "84910781",
   "metadata": {},
   "outputs": [],
   "source": [
    "matriz_confusion(model_mlp_3, x_test_r, y_test, 'Matriz de confusión - Test')"
   ]
  },
  {
   "cell_type": "markdown",
   "id": "775c2253",
   "metadata": {},
   "source": [
    "#### RED NEURONAL 4:\n",
    "* Tipo: MLP.\n",
    "* Capas: 4 densas, con 30, 20, 20 y 10 neuronas en ese orden.\n",
    "* Dropout: 20% en cada capa.\n",
    "* Función de activación: 'relu' en cada capa y 'softmax' en la salida.\n",
    "* Épocas: 25.\n",
    "* Tamaño del batch: 250."
   ]
  },
  {
   "cell_type": "code",
   "execution_count": null,
   "id": "69d1fcb7",
   "metadata": {
    "scrolled": true
   },
   "outputs": [],
   "source": [
    "model_mlp_4 = Sequential([\n",
    "    \n",
    "    Flatten(input_shape=(28, 28)),\n",
    "    \n",
    "    Dense(30, activation='relu'),\n",
    "    Dropout(0.2),\n",
    "    \n",
    "    Dense(20, activation='relu'),\n",
    "    Dropout(0.2),\n",
    "            \n",
    "    Dense(20, activation='relu'),\n",
    "    Dropout(0.2),\n",
    "\n",
    "    Dense(len(CLASES), activation='softmax'),\n",
    "])\n",
    "\n",
    "model_mlp_4.compile(\n",
    "    optimizer='adam',\n",
    "    loss='sparse_categorical_crossentropy',\n",
    "    metrics=['accuracy',],\n",
    ")\n",
    "    \n",
    "model_mlp_4.summary()"
   ]
  },
  {
   "cell_type": "code",
   "execution_count": null,
   "id": "e9801621",
   "metadata": {
    "scrolled": true
   },
   "outputs": [],
   "source": [
    "history_mlp_4 = model_mlp_4.fit(\n",
    "    x_train_r,\n",
    "    y_train,\n",
    "    epochs=25,\n",
    "    batch_size=250,\n",
    "    validation_data=(x_test_r, y_test)\n",
    ")"
   ]
  },
  {
   "cell_type": "code",
   "execution_count": null,
   "id": "fc366b75",
   "metadata": {},
   "outputs": [],
   "source": [
    "curva_aprendizaje(history_mlp_4)"
   ]
  },
  {
   "cell_type": "code",
   "execution_count": null,
   "id": "ba5bfa24",
   "metadata": {},
   "outputs": [],
   "source": [
    "matriz_confusion(model_mlp_4, x_train_r, y_train, 'Matriz de confusión - Train')"
   ]
  },
  {
   "cell_type": "code",
   "execution_count": null,
   "id": "5d69a3c2",
   "metadata": {},
   "outputs": [],
   "source": [
    "matriz_confusion(model_mlp_4, x_test_r, y_test, 'Matriz de confusión - Test')"
   ]
  },
  {
   "cell_type": "markdown",
   "id": "bc0fb2ba",
   "metadata": {},
   "source": [
    "#### RED NEURONAL 5:\n",
    "* Tipo: MLP.\n",
    "* Capas: 4 densas, con 80, 80, 60 y 10 neuronas en ese orden.\n",
    "* Dropout: 20% en cada capa.\n",
    "* Función de activación: 'tanh' en cada capa y 'softmax' en la salida.\n",
    "* Épocas: 25.\n",
    "* Tamaño del batch: 250."
   ]
  },
  {
   "cell_type": "code",
   "execution_count": null,
   "id": "84f33505",
   "metadata": {},
   "outputs": [],
   "source": [
    "model_mlp_5 = Sequential([\n",
    "    \n",
    "    Flatten(input_shape=(28, 28)),\n",
    "    \n",
    "    Dense(80, activation='tanh'),\n",
    "    Dropout(0.2),\n",
    "    \n",
    "    Dense(80, activation='tanh'),\n",
    "    Dropout(0.2),\n",
    "            \n",
    "    Dense(60, activation='tanh'),\n",
    "    Dropout(0.2),\n",
    "\n",
    "    Dense(len(CLASES), activation='softmax'),\n",
    "])\n",
    "\n",
    "model_mlp_5.compile(\n",
    "    optimizer='adam',\n",
    "    loss='sparse_categorical_crossentropy',\n",
    "    metrics=['accuracy',],\n",
    ")\n",
    "    \n",
    "model_mlp_5.summary()"
   ]
  },
  {
   "cell_type": "code",
   "execution_count": null,
   "id": "66f66390",
   "metadata": {},
   "outputs": [],
   "source": [
    "history_mlp_5 = model_mlp_5.fit(\n",
    "    x_train_r,\n",
    "    y_train,\n",
    "    epochs=25,\n",
    "    batch_size=250,\n",
    "    validation_data=(x_test_r, y_test)\n",
    ")"
   ]
  },
  {
   "cell_type": "code",
   "execution_count": null,
   "id": "974c85f3",
   "metadata": {},
   "outputs": [],
   "source": [
    "curva_aprendizaje(history_mlp_5)"
   ]
  },
  {
   "cell_type": "code",
   "execution_count": null,
   "id": "e68e502a",
   "metadata": {},
   "outputs": [],
   "source": [
    "matriz_confusion(model_mlp_5, x_train_r, y_train, 'Matriz de confusión - Train')"
   ]
  },
  {
   "cell_type": "code",
   "execution_count": null,
   "id": "7ca61c97",
   "metadata": {},
   "outputs": [],
   "source": [
    "matriz_confusion(model_mlp_5, x_test_r, y_test, 'Matriz de confusión - Test')"
   ]
  },
  {
   "cell_type": "code",
   "execution_count": null,
   "id": "8a2401cf",
   "metadata": {},
   "outputs": [],
   "source": []
  }
 ],
 "metadata": {
  "kernelspec": {
   "display_name": "Python 3 (ipykernel)",
   "language": "python",
   "name": "python3"
  },
  "language_info": {
   "codemirror_mode": {
    "name": "ipython",
    "version": 3
   },
   "file_extension": ".py",
   "mimetype": "text/x-python",
   "name": "python",
   "nbconvert_exporter": "python",
   "pygments_lexer": "ipython3",
   "version": "3.9.7"
  }
 },
 "nbformat": 4,
 "nbformat_minor": 5
}
