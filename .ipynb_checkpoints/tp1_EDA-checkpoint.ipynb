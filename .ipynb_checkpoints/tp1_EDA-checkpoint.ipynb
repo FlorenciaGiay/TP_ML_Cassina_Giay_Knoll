{
 "cells": [
  {
   "cell_type": "markdown",
   "id": "50297c0b",
   "metadata": {},
   "source": [
    "# Análisis Exploratorio de Datos \n",
    "## Contratación de Seguros de Viajes"
   ]
  },
  {
   "cell_type": "markdown",
   "id": "6e4ebb82",
   "metadata": {},
   "source": [
    "El dataset seleccionado contiene información proveniente de una compañía de viajes y turismo que está ofreciendo un paquete de seguro de viajes a sus clientes. El mismo tiene una dimensión de 10 columnas (incluyendo un índice) por 1987 filas y se encuentra en formato .csv."
   ]
  },
  {
   "cell_type": "markdown",
   "id": "5e9a53c5",
   "metadata": {},
   "source": [
    "### 1) Listado de variables y selección\n",
    "##### Variables de entrada:\n",
    "- Age (edad): variable numérica que indica la edad del cliente.\n",
    "- Employment Type (tipo de empleo): variable de texto que indica el sector en el cuál trabaja el cliente (Government Sector, Private Sector/Self Employed).\n",
    "- GraduateOrNot (graduado o no): variable de texto que indica si el cliente se graduó de la universidad o no (Yes, No).\n",
    "- AnnualIncome (ingresos anuales): variable numérica que indica los ingresos anuales del cliente en rupias indias (redondeado a las 50000 rupias más cercanas).\n",
    "- FamilyMembers (miembros familiares): variable numérica que indica el número de miembros perteneciente a la familia del cliente.\n",
    "- ChronicDiseases (enfermedades crónicas): variable binaria que indica si el cliente sufre de alguna enfermedad importante o condiciones como diabetes, presión alta, asma, etc.\n",
    "- FrequentFlyer (volador frecuente): variable de texto que indica si un cliente compra frecuentemente pasajes de avión (Yes, No).\n",
    "- EverTravelledAbroad (viajó al extranjero): variable de texto que indica si el cliente viajó alguna vez a algún país extranjero (Yes, No).\n",
    "\n",
    "Todas las variables de entrada serán utilizadas, ya que consideramos que guardan relación con la variable de salida.\n",
    "\n",
    "##### Variable de salida:\n",
    "- TravelInsurance (seguro de viaje): variable binaria que indica si el cliente contrató o no el seguro de viaje. Los valores posibles que puede tener son 0 que implica que el cliente no contrató el seguro, y 1 que indica que el cliente si contrató el seguro."
   ]
  },
  {
   "cell_type": "code",
   "execution_count": null,
   "id": "78a911ac",
   "metadata": {},
   "outputs": [],
   "source": [
    "# Importamos las dependencias necesarias.\n",
    "import numpy as np\n",
    "import pandas as pd\n",
    "import matplotlib\n",
    "import matplotlib.pyplot as plt\n",
    "import keras\n",
    "import h5py\n",
    "import PIL\n",
    "import seaborn as sns\n",
    "import plotly\n",
    "import plotly.express as px\n",
    "import sklearn_pandas"
   ]
  },
  {
   "cell_type": "code",
   "execution_count": null,
   "id": "4603be9c",
   "metadata": {},
   "outputs": [],
   "source": [
    "#Importamos el dataset.\n",
    "dataset = pd.read_csv('TravelInsurancePrediction.csv')\n",
    "#Seleccionamos la primer columna 'Idx', como índice.\n",
    "dataset = dataset.set_index(\"Idx\")\n",
    "dataset.sample(5)"
   ]
  },
  {
   "cell_type": "code",
   "execution_count": null,
   "id": "de02aaae",
   "metadata": {},
   "outputs": [],
   "source": [
    "#Mostramos el tipo de dato de cada columna.\n",
    "dataset.dtypes"
   ]
  },
  {
   "cell_type": "code",
   "execution_count": null,
   "id": "8195f71c",
   "metadata": {},
   "outputs": [],
   "source": [
    "#Mostramos las dimensiones del dataset.\n",
    "dataset.shape"
   ]
  },
  {
   "cell_type": "markdown",
   "id": "5e0ee789",
   "metadata": {},
   "source": [
    "### 2) Análisis detallado de un conjunto de variables\n",
    "#### Balanceo de la variable de salida"
   ]
  },
  {
   "cell_type": "code",
   "execution_count": null,
   "id": "66e5baa7",
   "metadata": {},
   "outputs": [],
   "source": [
    "#Graficamos el balanceo de la variable de salida 'TravelInsurance'\n",
    "dataset.TravelInsurance.value_counts().plot.pie(autopct='%1.0f%%',figsize=(8,8))"
   ]
  },
  {
   "cell_type": "markdown",
   "id": "d5177056",
   "metadata": {},
   "source": [
    "Se puede observar en el gráfico de torta, que existe un desbalance notorio de los valores de la variable de salida ‘TravelInsurance’, ya que el 64% de los clientes deciden no adquirir el seguro de viaje, mientras que el 36% de ellos si.   \n",
    "Este sesgo, debido a la mayor cantidad de valores 0, podría afectar el entrenamiento del modelo y la medición del rendimiento ya que este podría aprender a predecir, que en la mayoría de los casos, los clientes no comprarán el seguro, para evitar fallar en dicha predicción."
   ]
  },
  {
   "cell_type": "markdown",
   "id": "6e6895e3",
   "metadata": {},
   "source": [
    "#### Comportamiento de las variables de entrada y su relación con la variable de salida\n",
    "##### Variable: AnnualIncome"
   ]
  },
  {
   "cell_type": "code",
   "execution_count": null,
   "id": "198bb3ce",
   "metadata": {
    "scrolled": true
   },
   "outputs": [],
   "source": [
    "px.histogram(dataset, x='AnnualIncome', color='TravelInsurance', barmode='group')"
   ]
  },
  {
   "cell_type": "markdown",
   "id": "17a8ea9d",
   "metadata": {},
   "source": [
    "A partir de este histograma que refleja las cantidades de personas que contratan el seguro de viaje o no (TravelInsurance), con respecto a los ingresos anuales (AnnualIncome), podemos notar que existe una leve tendencia directamente proporcional entre la variable de entrada y la de salida. Si bien no es tan lineal esta relación, ya que hay ascensos y descensos, en general va creciendo la proporción de clientes que contratan y disminuyendo la proporción de los que no a medida que aumenta el ingreso."
   ]
  },
  {
   "cell_type": "markdown",
   "id": "edeab9f3",
   "metadata": {},
   "source": [
    "##### Variable: Age"
   ]
  },
  {
   "cell_type": "code",
   "execution_count": null,
   "id": "beadef76",
   "metadata": {
    "scrolled": true
   },
   "outputs": [],
   "source": [
    "px.histogram(dataset, x='Age', color='TravelInsurance', barmode='group')"
   ]
  },
  {
   "cell_type": "markdown",
   "id": "de5f9ac0",
   "metadata": {},
   "source": [
    "Con respecto a la edad de los clientes (Age) y teniendo en cuenta el histograma, podemos concluir que esta variable de entrada no mantiene una relación con la variable de salida (TravelInsurance), ya que en el gráfico no se observa ninguna tendencia. Esto quiere decir que la contratación de un seguro de viaje no va a depender, en gran medida, de la edad de los clientes de este dataset. Podríamos suponer, que esto puede deberse, en parte, a que la franja etaria que presenta el conjunto de datos es reducida, y no sabríamos por ejemplo, si un anciano contrataría o no un seguro en función de su edad."
   ]
  },
  {
   "cell_type": "markdown",
   "id": "e7f117a0",
   "metadata": {},
   "source": [
    "##### Variable: ChronicDiseases"
   ]
  },
  {
   "cell_type": "code",
   "execution_count": null,
   "id": "facf5446",
   "metadata": {
    "scrolled": true
   },
   "outputs": [],
   "source": [
    "#dataset.TravelInsurance.value_counts().plot.pie(autopct='%1.0f%%',figsize=(8,8))\n",
    "dataset[dataset.ChronicDiseases==0].TravelInsurance.value_counts().plot.pie(autopct='%1.0f%%',figsize=(8,8), title='No sufre enfermedades')"
   ]
  },
  {
   "cell_type": "code",
   "execution_count": null,
   "id": "57a68095",
   "metadata": {},
   "outputs": [],
   "source": [
    "dataset[dataset.ChronicDiseases==1].TravelInsurance.value_counts().plot.pie(autopct='%1.0f%%',figsize=(8,8), title='Sufre enfermedades')"
   ]
  },
  {
   "cell_type": "markdown",
   "id": "83cdb355",
   "metadata": {},
   "source": [
    "Esta variable de entrada (ChronicDiseases) no presenta una relación directa con respecto a la variable de salida (TravelInsurance). Esto lo podemos observar en los gráficos de torta, ya que el porcentaje de personas que contratan el seguro o no, varía muy poco si los clientes presentan enfermedades crónicas o no. El gráfico ‘No sufre enfermedades’ que relaciona las personas enfermas con la contratación o no del seguro mantiene una relación de 65% de que no contrata y 35% de que si contrata. Y por otro lado el gráfico ‘Sufre enfermedades’ que relaciona las personas sanas con la contratación o no del seguro mantiene una relación de 63% de que no contrata y 37% de que si contrata. Como se puede ver, solo hay una diferencia del 2% entre un gráfico y otro."
   ]
  },
  {
   "cell_type": "code",
   "execution_count": null,
   "id": "c5040e88",
   "metadata": {},
   "outputs": [],
   "source": [
    "dataset.Age.describe()"
   ]
  },
  {
   "cell_type": "code",
   "execution_count": null,
   "id": "0a1844c2",
   "metadata": {},
   "outputs": [],
   "source": [
    "dataset.FamilyMembers.describe()"
   ]
  },
  {
   "cell_type": "code",
   "execution_count": null,
   "id": "3a78bfde",
   "metadata": {},
   "outputs": [],
   "source": [
    "dataset.AnnualIncome.describe()"
   ]
  },
  {
   "cell_type": "code",
   "execution_count": null,
   "id": "be53d9ce",
   "metadata": {},
   "outputs": [],
   "source": [
    "dataset.isnull().sum()"
   ]
  },
  {
   "cell_type": "code",
   "execution_count": null,
   "id": "6c0fcacf",
   "metadata": {},
   "outputs": [],
   "source": [
    "ages = np.array(dataset.Age)"
   ]
  },
  {
   "cell_type": "code",
   "execution_count": null,
   "id": "9495d222",
   "metadata": {},
   "outputs": [],
   "source": [
    "print(ages)"
   ]
  },
  {
   "cell_type": "code",
   "execution_count": null,
   "id": "fe820755",
   "metadata": {},
   "outputs": [],
   "source": [
    "ages_unique, counts = np.unique(ages, return_counts = True)\n",
    "size = counts * 3\n",
    "colors = ['blue'] * len(ages_unique)\n",
    "plt.axhline(1,color='k',linestyle='--')\n",
    "plt.scatter(ages_unique,np.ones(len(ages_unique)),s=size,color=colors)\n",
    "plt.yticks([])\n",
    "plt.show()"
   ]
  },
  {
   "cell_type": "code",
   "execution_count": null,
   "id": "e27097c3",
   "metadata": {},
   "outputs": [],
   "source": [
    "incomes = np.array(dataset.AnnualIncome)\n",
    "incomes_unique, counts = np.unique(incomes, return_counts = True)\n",
    "size = counts * 8\n",
    "colors = ['blue'] * len(incomes_unique)\n",
    "plt.axhline(1,color='k',linestyle='--')\n",
    "plt.scatter(incomes_unique,np.ones(len(incomes_unique)),s=size,color=colors)\n",
    "plt.yticks([])\n",
    "plt.show()"
   ]
  },
  {
   "cell_type": "code",
   "execution_count": null,
   "id": "762678e0",
   "metadata": {},
   "outputs": [],
   "source": [
    "familyMembers = np.array(dataset.FamilyMembers)\n",
    "familyMembers_unique, counts = np.unique(familyMembers, return_counts = True)\n",
    "size = counts * 8\n",
    "colors = ['blue'] * len(familyMembers_unique)\n",
    "plt.axhline(1,color='k',linestyle='--')\n",
    "plt.scatter(familyMembers_unique,np.ones(len(familyMembers_unique)),s=size,color=colors)\n",
    "plt.yticks([])\n",
    "plt.show()"
   ]
  },
  {
   "cell_type": "code",
   "execution_count": null,
   "id": "c06827eb",
   "metadata": {},
   "outputs": [],
   "source": [
    "dataset.duplicated(keep=True).count()"
   ]
  },
  {
   "cell_type": "code",
   "execution_count": null,
   "id": "6aae031b",
   "metadata": {},
   "outputs": [],
   "source": []
  }
 ],
 "metadata": {
  "kernelspec": {
   "display_name": "Python 3 (ipykernel)",
   "language": "python",
   "name": "python3"
  },
  "language_info": {
   "codemirror_mode": {
    "name": "ipython",
    "version": 3
   },
   "file_extension": ".py",
   "mimetype": "text/x-python",
   "name": "python",
   "nbconvert_exporter": "python",
   "pygments_lexer": "ipython3",
   "version": "3.9.7"
  }
 },
 "nbformat": 4,
 "nbformat_minor": 5
}
