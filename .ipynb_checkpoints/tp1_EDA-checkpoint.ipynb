{
 "cells": [
  {
   "cell_type": "markdown",
   "id": "50297c0b",
   "metadata": {},
   "source": [
    "# Análisis Exploratorio de Datos \n",
    "## Contratación de Seguros de Viajes"
   ]
  },
  {
   "cell_type": "markdown",
   "id": "6e4ebb82",
   "metadata": {},
   "source": [
    "El dataset seleccionado contiene información proveniente de una compañía de viajes y turismo que está ofreciendo un paquete de seguro de viajes a sus clientes. El mismo tiene una dimensión de 10 columnas (incluyendo un índice) por 1987 filas y se encuentra en formato .csv."
   ]
  },
  {
   "cell_type": "markdown",
   "id": "5e9a53c5",
   "metadata": {},
   "source": [
    "### 1) Listado de variables y selección\n",
    "##### Variables de entrada:\n",
    "- Age (edad): variable numérica que indica la edad del cliente.\n",
    "- Employment Type (tipo de empleo): variable de texto que indica el sector en el cuál trabaja el cliente (Government Sector, Private Sector/Self Employed).\n",
    "- GraduateOrNot (graduado o no): variable de texto que indica si el cliente se graduó de la universidad o no (Yes, No).\n",
    "- AnnualIncome (ingresos anuales): variable numérica que indica los ingresos anuales del cliente en rupias indias (redondeado a las 50000 rupias más cercanas).\n",
    "- FamilyMembers (miembros familiares): variable numérica que indica el número de miembros perteneciente a la familia del cliente.\n",
    "- ChronicDiseases (enfermedades crónicas): variable binaria que indica si el cliente sufre de alguna enfermedad importante o condiciones como diabetes, presión alta, asma, etc.\n",
    "- FrequentFlyer (volador frecuente): variable de texto que indica si un cliente compra frecuentemente pasajes de avión (Yes, No).\n",
    "- EverTravelledAbroad (viajó al extranjero): variable de texto que indica si el cliente viajó alguna vez a algún país extranjero (Yes, No).\n",
    "\n",
    "Todas las variables de entrada serán utilizadas, ya que consideramos que guardan relación con la variable de salida.\n",
    "\n",
    "##### Variable de salida:\n",
    "- TravelInsurance (seguro de viaje): variable binaria que indica si el cliente contrató o no el seguro de viaje. Los valores posibles que puede tener son 0 que implica que el cliente no contrató el seguro, y 1 que indica que el cliente si contrató el seguro."
   ]
  },
  {
   "cell_type": "code",
   "execution_count": null,
   "id": "78a911ac",
   "metadata": {},
   "outputs": [],
   "source": [
    "# Importamos las dependencias necesarias.\n",
    "import numpy as np\n",
    "import pandas as pd\n",
    "import matplotlib\n",
    "import matplotlib.pyplot as plt\n",
    "import keras\n",
    "import h5py\n",
    "import PIL\n",
    "import seaborn as sns\n",
    "import plotly\n",
    "import plotly.express as px\n",
    "import sklearn_pandas"
   ]
  },
  {
   "cell_type": "code",
   "execution_count": null,
   "id": "d20f4770",
   "metadata": {},
   "outputs": [],
   "source": [
    "np.set_printoptions(precision=2, suppress=True)"
   ]
  },
  {
   "cell_type": "code",
   "execution_count": null,
   "id": "4603be9c",
   "metadata": {},
   "outputs": [],
   "source": [
    "#Importamos el dataset.\n",
    "dataset = pd.read_csv('TravelInsurancePrediction.csv')\n",
    "#Seleccionamos la primer columna 'Idx', como índice.\n",
    "dataset = dataset.set_index(\"Idx\")\n",
    "dataset.sample(5)"
   ]
  },
  {
   "cell_type": "code",
   "execution_count": null,
   "id": "de02aaae",
   "metadata": {},
   "outputs": [],
   "source": [
    "#Mostramos el tipo de dato de cada columna.\n",
    "dataset.dtypes"
   ]
  },
  {
   "cell_type": "code",
   "execution_count": null,
   "id": "8195f71c",
   "metadata": {},
   "outputs": [],
   "source": [
    "#Mostramos las dimensiones del dataset.\n",
    "dataset.shape"
   ]
  },
  {
   "cell_type": "markdown",
   "id": "5e0ee789",
   "metadata": {},
   "source": [
    "### 2) Análisis detallado de un conjunto de variables\n",
    "#### Balanceo de la variable de salida"
   ]
  },
  {
   "cell_type": "code",
   "execution_count": null,
   "id": "66e5baa7",
   "metadata": {},
   "outputs": [],
   "source": [
    "#Graficamos el balanceo de la variable de salida 'TravelInsurance'\n",
    "dataset.TravelInsurance.value_counts().plot.pie(autopct='%1.0f%%',figsize=(8,8))"
   ]
  },
  {
   "cell_type": "markdown",
   "id": "d5177056",
   "metadata": {},
   "source": [
    "Se puede observar en el gráfico de torta, que existe un desbalance notorio de los valores de la variable de salida ‘TravelInsurance’, ya que el 64% de los clientes deciden no adquirir el seguro de viaje, mientras que el 36% de ellos si.   \n",
    "Este sesgo, debido a la mayor cantidad de valores 0, podría afectar el entrenamiento del modelo y la medición del rendimiento ya que este podría aprender a predecir, que en la mayoría de los casos, los clientes no comprarán el seguro, para evitar fallar en dicha predicción."
   ]
  },
  {
   "cell_type": "markdown",
   "id": "6e6895e3",
   "metadata": {},
   "source": [
    "#### Comportamiento de las variables de entrada y su relación con la variable de salida\n",
    "##### Variable: AnnualIncome"
   ]
  },
  {
   "cell_type": "markdown",
   "id": "60ec47ee",
   "metadata": {},
   "source": [
    "Antes que nada analizaremos la distribución de los datos de la variable. Esto es importante ya que, como podemos ver en el histograma siguiente, la cantidad de clientes que ganan más de 1.5 millones de rupias son la minoría, por lo que no deberían tener tanto peso en el análisis con respecto a la cantidad de personas que adquieren el seguro o no."
   ]
  },
  {
   "cell_type": "code",
   "execution_count": null,
   "id": "a822981f",
   "metadata": {},
   "outputs": [],
   "source": [
    "px.histogram(dataset, x='AnnualIncome')"
   ]
  },
  {
   "cell_type": "code",
   "execution_count": null,
   "id": "198bb3ce",
   "metadata": {
    "scrolled": true
   },
   "outputs": [],
   "source": [
    "px.histogram(dataset, x='AnnualIncome', color='TravelInsurance', barmode='group')"
   ]
  },
  {
   "cell_type": "markdown",
   "id": "17a8ea9d",
   "metadata": {},
   "source": [
    "Por otra parte, a partir de este histograma que refleja las cantidades de personas que contratan el seguro de viaje o no (TravelInsurance), con respecto a los ingresos anuales (AnnualIncome), podemos notar que existe una leve tendencia directamente proporcional entre la variable de entrada y la de salida. Si bien no es tan lineal esta relación, ya que hay ascensos y descensos, en general va creciendo la proporción de clientes que contratan y disminuyendo la proporción de los que no a medida que aumenta el ingreso."
   ]
  },
  {
   "cell_type": "markdown",
   "id": "edeab9f3",
   "metadata": {},
   "source": [
    "##### Variable: Age"
   ]
  },
  {
   "cell_type": "markdown",
   "id": "573c8939",
   "metadata": {},
   "source": [
    "En primer lugar analizaremos la distribución de los datos de la variable. En este caso, como podemos ver en el histograma, los clientes con 28 años son la mayoría (aproximadamente un cuarto del dataset). Es importante tenerlo en cuenta al comparar la edad con la variable de salida porque puede llegar a predecirla erróneamente, ya que se deja influenciar por esta gran cantidad. "
   ]
  },
  {
   "cell_type": "code",
   "execution_count": null,
   "id": "dd3d3b61",
   "metadata": {},
   "outputs": [],
   "source": [
    "px.histogram(dataset, x='Age')"
   ]
  },
  {
   "cell_type": "code",
   "execution_count": null,
   "id": "beadef76",
   "metadata": {
    "scrolled": true
   },
   "outputs": [],
   "source": [
    "px.histogram(dataset, x='Age', color='TravelInsurance', barmode='group')"
   ]
  },
  {
   "cell_type": "markdown",
   "id": "de5f9ac0",
   "metadata": {},
   "source": [
    "Con respecto a la edad de los clientes (Age) y teniendo en cuenta el histograma, podemos concluir que esta variable de entrada no mantiene una relación con la variable de salida (TravelInsurance), ya que en el gráfico no se observa ninguna tendencia. Esto quiere decir que la contratación de un seguro de viaje no va a depender, en gran medida, de la edad de los clientes de este dataset. Podríamos suponer, que esto puede deberse, en parte, a que la franja etaria que presenta el conjunto de datos es reducida, y no sabríamos por ejemplo, si un anciano contrataría o no un seguro en función de su edad.  \n",
    "Por otro lado, si pudimos notar un aumento de la cantidad de clientes de 28 años que no compran el seguro, pero esto puede ser debido a la distribución de la variable, como mencionamos anteriormente."
   ]
  },
  {
   "cell_type": "markdown",
   "id": "e7f117a0",
   "metadata": {},
   "source": [
    "##### Variable: ChronicDiseases"
   ]
  },
  {
   "cell_type": "markdown",
   "id": "85fcada4",
   "metadata": {},
   "source": [
    "Para analizar la distribución de esta variables debemos observar el siguiente gráfico. A partir de él podemos notar que el 28% de personas presentan enfermedades crónicas, mientras el 72% no. Esto demuestra que hay un desbalance en dicha variable, lo cual puede influir en el análisis de esta, con respecto a la variable de salida."
   ]
  },
  {
   "cell_type": "code",
   "execution_count": null,
   "id": "9b402f70",
   "metadata": {},
   "outputs": [],
   "source": [
    "dataset.ChronicDiseases.value_counts().plot.pie(autopct='%1.0f%%',figsize=(5,5), title = 'Distribución')"
   ]
  },
  {
   "cell_type": "code",
   "execution_count": null,
   "id": "facf5446",
   "metadata": {
    "scrolled": true
   },
   "outputs": [],
   "source": [
    "dataset[dataset.ChronicDiseases==0].TravelInsurance.value_counts().plot.pie(autopct='%1.0f%%',figsize=(5,5), title='No sufre enfermedades')"
   ]
  },
  {
   "cell_type": "code",
   "execution_count": null,
   "id": "57a68095",
   "metadata": {},
   "outputs": [],
   "source": [
    "dataset[dataset.ChronicDiseases==1].TravelInsurance.value_counts().plot.pie(autopct='%1.0f%%',figsize=(5,5), title='Sufre enfermedades')"
   ]
  },
  {
   "cell_type": "markdown",
   "id": "83cdb355",
   "metadata": {},
   "source": [
    "Sin embargo, esta variable de entrada (ChronicDiseases) no presenta una relación directa con respecto a la variable de salida (TravelInsurance). Esto lo podemos observar en los gráficos de torta, ya que el porcentaje de personas que contratan el seguro o no, varía muy poco si los clientes presentan enfermedades crónicas o no. El gráfico ‘No sufre enfermedades’ que relaciona las personas enfermas con la contratación o no del seguro mantiene una relación de 65% de que no contrata y 35% de que si contrata. Y por otro lado el gráfico ‘Sufre enfermedades’ que relaciona las personas sanas con la contratación o no del seguro mantiene una relación de 63% de que no contrata y 37% de que si contrata. Como se puede ver, solo hay una diferencia del 2% entre un gráfico y otro."
   ]
  },
  {
   "cell_type": "code",
   "execution_count": null,
   "id": "f07c7d70",
   "metadata": {},
   "outputs": [],
   "source": [
    "##### Variable: FrequentFlyer"
   ]
  },
  {
   "cell_type": "markdown",
   "id": "492c2997",
   "metadata": {},
   "source": [
    "Antes que nada debemos analizar la distribución de esta variable. Observando el gráfico siguiente podemos notar que hay un desbalance, ya que el 79% de los clientes no son voladores frecuentes y el 21% si. Esta diferencia puede llegar a influenciar en la relación de dicha variable de entrada con respecto a la variable de salida, pudiendo generar predicciones no tan precisas."
   ]
  },
  {
   "cell_type": "code",
   "execution_count": null,
   "id": "930e4f4b",
   "metadata": {},
   "outputs": [],
   "source": [
    "dataset.FrequentFlyer.value_counts().plot.pie(autopct='%1.0f%%',figsize=(5,5), title = 'Distribución')"
   ]
  },
  {
   "cell_type": "markdown",
   "id": "b9cfae9f",
   "metadata": {},
   "source": [
    "Esta variable de entrada (FrequentFlyer) no presenta una gran relación con respecto a la variable de salida (TravelInsurance). Sin embargo, como podemos observar en el gráfico de torta ‘No vuela frecuentemente’, solo el 30% de los clientes adquieren el seguro, mientras que el 70% no. Esto quiere decir que hay una leve tendencia entre los clientes que no son voladores frecuentes y el hecho de que no compran el seguro (cabe aclarar que esto puede verse influenciado por el desbalance explicado anteriormente).  \n",
    "No obstante, esta relación no se refleja en el gráfico ‘Es volador frecuente’ ya que casi la mitad de las personas contrata el seguro (43%) y un poco más de la otra mitad no (57%)."
   ]
  },
  {
   "cell_type": "code",
   "execution_count": null,
   "id": "df860e90",
   "metadata": {},
   "outputs": [],
   "source": [
    "dataset[dataset.FrequentFlyer=='Yes'].TravelInsurance.value_counts().plot.pie(autopct='%1.0f%%',figsize=(5,5), title='Vuela frecuentemente')"
   ]
  },
  {
   "cell_type": "code",
   "execution_count": null,
   "id": "62ba8e04",
   "metadata": {},
   "outputs": [],
   "source": [
    "dataset[dataset.FrequentFlyer=='No'].TravelInsurance.value_counts().plot.pie(autopct='%1.0f%%',figsize=(5,5), title='No vuela frecuentemente')"
   ]
  },
  {
   "cell_type": "markdown",
   "id": "0632704f",
   "metadata": {},
   "source": [
    "##### Variable: EverTravelledAbroad"
   ]
  },
  {
   "cell_type": "markdown",
   "id": "40a63b61",
   "metadata": {},
   "source": [
    "En primer lugar debemos analizar la distribución de esta variable. Observando el gráfico siguiente podemos notar que hay un desbalance en los valores, ya que el 81% de los clientes no son voladores frecuentes y el 19% si. Esta diferencia puede llegar a influenciar en la relación de dicha variable de entrada con respecto a la variable de salida, pudiendo generar predicciones un tanto imprecisas."
   ]
  },
  {
   "cell_type": "code",
   "execution_count": null,
   "id": "d25875c8",
   "metadata": {
    "scrolled": true
   },
   "outputs": [],
   "source": [
    "dataset.EverTravelledAbroad.value_counts().plot.pie(autopct='%1.0f%%',figsize=(5,5), title = 'Distribución')"
   ]
  },
  {
   "cell_type": "markdown",
   "id": "69c66262",
   "metadata": {},
   "source": [
    "Esta variable de entrada (EverTravelledAbroad) presenta una relación con respecto a la variable de salida (TravelInsurance) como podemos observar en el histograma, ya que de los clientes que alguna vez salieron del país, la gran mayoría adquieren el seguro, mientras que de los clientes que no salieron del país, una buena parte no adquiere el seguro. Esto quiere decir que hay una leve tendencia entre los que sí salieron del país y si compraron el seguro, y por otro lado entre los clientes que nunca salieron del país y el hecho de que no compraron el seguro. Esta última tendencia puede llegar a verse influenciada por el desbalance en la variable de entrada explicado anteriormente."
   ]
  },
  {
   "cell_type": "code",
   "execution_count": null,
   "id": "1f127116",
   "metadata": {
    "scrolled": true
   },
   "outputs": [],
   "source": [
    "px.histogram(dataset, x='EverTravelledAbroad', color='TravelInsurance', barmode='group')"
   ]
  },
  {
   "cell_type": "markdown",
   "id": "8bbdcc57",
   "metadata": {},
   "source": [
    "#### Transformaciones sobre las variables de entrada\n",
    "En primer lugar y en general, decidimos que a ninguna de las variables las vamos a renombrar, ya que consideramos que son lo suficientemente descriptivas con respecto a lo que representan.    \n",
    "  \n",
    "Con respecto a cada variable:\n",
    "  \n",
    "    \n",
    "##### Variable: Age\n",
    "Una opción considerada es agrupar las edades en rangos de a 5 o de a 10 años, lo cual sería útil, ya que una persona con 21 y otra con 22 años no representa una diferencia significativa en algunos casos y se evitaría que el modelo haga asociaciones erróneas. Sin embargo, descartamos esta opción porque las edades van desde los 25 hasta los 35 y en este caso, un par de años pueden marcar una diferencia, ya que el rango etario es reducido. Por otra parte, cómo este campo está expresado en valores chicos (comparado con el campo de ingresos anuales) decidimos escalar entre valores de 0 y 1."
   ]
  },
  {
   "cell_type": "code",
   "execution_count": null,
   "id": "c5040e88",
   "metadata": {
    "scrolled": true
   },
   "outputs": [],
   "source": [
    "dataset.Age.describe()"
   ]
  },
  {
   "cell_type": "markdown",
   "id": "e516aef9",
   "metadata": {},
   "source": [
    "##### Variable: EmploymentType\n",
    "Como se trata de un columna de categorías, podríamos optar por implementar One Hot Encoder. No obstante, como sólo se trata de dos categorías, consideramos que es más simple convertir una sola de las categorías en una columna binaria que indique 1 si es empleado gubernamental, o 0 si es privado/independiente (no es gubernamental)."
   ]
  },
  {
   "cell_type": "markdown",
   "id": "7a120646",
   "metadata": {},
   "source": [
    "##### Variable: GraduateOrNot\n",
    "Como representa un valor binario, pero está en texto, optamos por transformarla en una columna binaria (0 y 1)."
   ]
  },
  {
   "cell_type": "markdown",
   "id": "d1cf8e7f",
   "metadata": {},
   "source": [
    "##### Variable: AnnualIncome\n",
    "Cómo este campo está expresado en valores muy grandes (comparado con los campos de edad y cantidad de familiares) decidimos escalar entre valores de 0 y 1."
   ]
  },
  {
   "cell_type": "code",
   "execution_count": null,
   "id": "0a1844c2",
   "metadata": {
    "scrolled": true
   },
   "outputs": [],
   "source": [
    "dataset.AnnualIncome.describe().apply(lambda x: format(x, 'f'))"
   ]
  },
  {
   "cell_type": "markdown",
   "id": "7a81ae4e",
   "metadata": {},
   "source": [
    "##### Variable: FamilyMembers\n",
    "Como este campo está expresado en valores chicos (comparado con el campo de ingresos anuales) decidimos escalar entre valores de 0 y 1."
   ]
  },
  {
   "cell_type": "code",
   "execution_count": null,
   "id": "3a78bfde",
   "metadata": {},
   "outputs": [],
   "source": [
    "dataset.FamilyMembers.describe()"
   ]
  },
  {
   "cell_type": "markdown",
   "id": "070191de",
   "metadata": {},
   "source": [
    "##### Variable: ChronicDiseases\n",
    "Optamos por no transformarla, ya que se trata de una variable binaria correctamente representada.  \n",
    "\n",
    "##### Variable: FrequentFlyer\n",
    "Como representa un valor binario, pero está en texto, optamos por transformarla en una columna binaria (0 y 1).  \n",
    "\n",
    "##### Variable: EverTravelledAbroad\n",
    "Como representa un valor binario, pero está en texto, optamos por transformarla en una columna binaria (0 y 1).\n"
   ]
  },
  {
   "cell_type": "markdown",
   "id": "e2b1c3cc",
   "metadata": {},
   "source": [
    "#### Valores null, valores extremos y otros\n",
    "Como ninguna de las variables de entrada presentan valores nulos, no debemos aplicar ningún tratamiento."
   ]
  },
  {
   "cell_type": "code",
   "execution_count": null,
   "id": "be53d9ce",
   "metadata": {
    "scrolled": true
   },
   "outputs": [],
   "source": [
    "dataset.isnull().sum()"
   ]
  },
  {
   "cell_type": "markdown",
   "id": "2b20aeab",
   "metadata": {},
   "source": [
    "Para el caso de los valores extremos, tampoco debemos aplicar tratamientos, ya que no se presentan en ninguno de los campos numéricos. Esto lo podemos comprobar en los siguientes gráficos que muestran la distribución de los valores."
   ]
  },
  {
   "cell_type": "code",
   "execution_count": null,
   "id": "6c0fcacf",
   "metadata": {},
   "outputs": [],
   "source": [
    "ages = np.array(dataset.Age)"
   ]
  },
  {
   "cell_type": "code",
   "execution_count": null,
   "id": "fe820755",
   "metadata": {},
   "outputs": [],
   "source": [
    "ages_unique, counts = np.unique(ages, return_counts = True)\n",
    "size = counts * 3\n",
    "colors = ['blue'] * len(ages_unique)\n",
    "plt.axhline(1,color='k',linestyle='--')\n",
    "plt.scatter(ages_unique,np.ones(len(ages_unique)),s=size,color=colors)\n",
    "plt.yticks([])\n",
    "plt.show()"
   ]
  },
  {
   "cell_type": "code",
   "execution_count": null,
   "id": "e27097c3",
   "metadata": {},
   "outputs": [],
   "source": [
    "incomes = np.array(dataset.AnnualIncome)\n",
    "incomes_unique, counts = np.unique(incomes, return_counts = True)\n",
    "size = counts * 8\n",
    "colors = ['blue'] * len(incomes_unique)\n",
    "plt.axhline(1,color='k',linestyle='--')\n",
    "plt.scatter(incomes_unique,np.ones(len(incomes_unique)),s=size,color=colors)\n",
    "plt.yticks([])\n",
    "plt.show()"
   ]
  },
  {
   "cell_type": "code",
   "execution_count": null,
   "id": "762678e0",
   "metadata": {
    "scrolled": true
   },
   "outputs": [],
   "source": [
    "familyMembers = np.array(dataset.FamilyMembers)\n",
    "familyMembers_unique, counts = np.unique(familyMembers, return_counts = True)\n",
    "size = counts * 8\n",
    "colors = ['blue'] * len(familyMembers_unique)\n",
    "plt.axhline(1,color='k',linestyle='--')\n",
    "plt.scatter(familyMembers_unique,np.ones(len(familyMembers_unique)),s=size,color=colors)\n",
    "plt.yticks([])\n",
    "plt.show()"
   ]
  },
  {
   "cell_type": "markdown",
   "id": "e999c409",
   "metadata": {},
   "source": [
    "Podemos agregar que no será necesario eliminar columnas duplicadas porque no hay.\n",
    "Tampoco será necesario eliminar filas duplicadas, ya que debido a la estructura de este dataset, descartar filas que son iguales podría llegar a eliminar conocimiento útil para el modelo, porque a pesar de que pueda haber mas de una filas con los mismos valores, estos puede tratarse de datos de clientes diferentes."
   ]
  },
  {
   "cell_type": "code",
   "execution_count": null,
   "id": "aa0573f8",
   "metadata": {},
   "outputs": [],
   "source": []
  }
 ],
 "metadata": {
  "kernelspec": {
   "display_name": "Python 3 (ipykernel)",
   "language": "python",
   "name": "python3"
  },
  "language_info": {
   "codemirror_mode": {
    "name": "ipython",
    "version": 3
   },
   "file_extension": ".py",
   "mimetype": "text/x-python",
   "name": "python",
   "nbconvert_exporter": "python",
   "pygments_lexer": "ipython3",
   "version": "3.9.7"
  }
 },
 "nbformat": 4,
 "nbformat_minor": 5
}
