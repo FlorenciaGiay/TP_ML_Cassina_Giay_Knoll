{
 "cells": [
  {
   "cell_type": "code",
   "execution_count": null,
   "id": "cbd15ae9",
   "metadata": {},
   "outputs": [],
   "source": [
    "# Importamos las dependencias necesarias.\n",
    "import numpy as np\n",
    "import pandas as pd\n",
    "import matplotlib.pyplot as plt\n",
    "import seaborn as sns\n",
    "import plotly\n",
    "import plotly.express as px\n",
    "import sklearn_pandas\n",
    "from sklearn.preprocessing import StandardScaler\n",
    "from sklearn.model_selection import train_test_split\n",
    "from sklearn_pandas import DataFrameMapper"
   ]
  },
  {
   "cell_type": "code",
   "execution_count": null,
   "id": "0a009359",
   "metadata": {},
   "outputs": [],
   "source": [
    "# Importamos el dataset.\n",
    "dataset = pd.read_csv('TravelInsurancePrediction.csv')\n",
    "\n",
    "# Renombramos las variables.\n",
    "dataset = dataset.rename(columns={'Idx':'idx', 'Age':'age', 'Employment Type':'employment_type', 'GraduateOrNot':'graduate_or_not', 'AnnualIncome':'annual_income', 'FamilyMembers':'family_members', 'ChronicDiseases':'chronic_diseases', 'EverTravelledAbroad':'ever_travelled_abroad', 'FrequentFlyer':'frequent_flyer', 'TravelInsurance':'travel_insurance'})\n",
    "\n",
    "# Seleccionamos la primer columna 'idx', como índice.\n",
    "dataset = dataset.set_index(\"idx\")\n",
    "\n",
    "# Reemplazamos los valores 'Yes' y 'No' por 0 y 1 de las variables indicadas en el tp1.\n",
    "dataset[\"graduate_or_not\"] = dataset.graduate_or_not.replace(['No', 'Yes'], [0,1])\n",
    "dataset[\"frequent_flyer\"] = dataset.frequent_flyer.replace(['No', 'Yes'], [0,1])\n",
    "dataset[\"ever_travelled_abroad\"] = dataset.ever_travelled_abroad.replace(['No', 'Yes'], [0,1])\n",
    "\n",
    "# Reemplazamos los dos posibles valores de la columna 'employment_type' por 0 y 1.\n",
    "dataset[\"employment_type\"] = dataset.employment_type.replace(['Private Sector/Self Employed', 'Government Sector'], [0,1])\n",
    "\n",
    "# Dividimos el dataset en train (60%), test (20%) y validation (20%)\n",
    "train, not_train = train_test_split(dataset, test_size=0.4, random_state=42)\n",
    "validation, test = train_test_split(not_train, test_size=0.5, random_state=42)"
   ]
  },
  {
   "cell_type": "code",
   "execution_count": null,
   "id": "249ed279",
   "metadata": {},
   "outputs": [],
   "source": [
    "dataset.sample(10)"
   ]
  },
  {
   "cell_type": "code",
   "execution_count": null,
   "id": "863d1b8c",
   "metadata": {},
   "outputs": [],
   "source": [
    "# Escalamos las variables numéricas.\n",
    "mapper = DataFrameMapper([\n",
    "    (['age'],[StandardScaler()]),\n",
    "    #(['employment_type'],[]),\n",
    "    #(['graduate_or_not'],[]),\n",
    "    (['annual_income'],[StandardScaler()]),\n",
    "    (['family_members'],[StandardScaler()])\n",
    "    #(['chronic_diseases'],[]),\n",
    "    #(['frequent_flyer'],[]),\n",
    "    #(['ever_travelled_abroad'],[]),\n",
    "    #(['travel_insurance'],[])\n",
    "])\n",
    "\n",
    "mapper.fit(train)\n",
    "dataset2 = pd.DataFrame(mapper.transform(dataset), columns=['age', 'annual_income', 'family_members'])\n",
    "dataset2"
   ]
  },
  {
   "cell_type": "code",
   "execution_count": null,
   "id": "84f0322f",
   "metadata": {},
   "outputs": [],
   "source": []
  }
 ],
 "metadata": {
  "kernelspec": {
   "display_name": "Python 3 (ipykernel)",
   "language": "python",
   "name": "python3"
  },
  "language_info": {
   "codemirror_mode": {
    "name": "ipython",
    "version": 3
   },
   "file_extension": ".py",
   "mimetype": "text/x-python",
   "name": "python",
   "nbconvert_exporter": "python",
   "pygments_lexer": "ipython3",
   "version": "3.9.7"
  }
 },
 "nbformat": 4,
 "nbformat_minor": 5
}
