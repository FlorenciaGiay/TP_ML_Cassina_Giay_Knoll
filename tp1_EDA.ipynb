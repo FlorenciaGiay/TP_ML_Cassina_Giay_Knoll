{
 "cells": [
  {
   "cell_type": "markdown",
   "id": "50297c0b",
   "metadata": {},
   "source": [
    "# Análisis Exploratorio de Datos \n",
    "## Contratación de Seguros de Viajes"
   ]
  },
  {
   "cell_type": "markdown",
   "id": "6e4ebb82",
   "metadata": {},
   "source": [
    "El dataset seleccionado contiene información proveniente de una compañía de viajes y turismo que está ofreciendo un paquete de seguro de viajes a sus clientes. El mismo tiene una dimensión de 10 columnas (incluyendo un índice) por 1987 filas y se encuentra en formato .csv."
   ]
  },
  {
   "cell_type": "markdown",
   "id": "5e9a53c5",
   "metadata": {},
   "source": [
    "### 1) Listado de variables y selección\n",
    "**Variables de entrada:**\n",
    "- Age (edad): variable numérica que indica la edad del cliente.\n",
    "- EmploymentType (tipo de empleo): variable de texto que indica el sector en el cuál trabaja el cliente (Government Sector, Private Sector/Self Employed).\n",
    "- GraduateOrNot (graduado o no): variable de texto que indica si el cliente se graduó de la universidad o no (Yes, No).\n",
    "- AnnualIncome (ingresos anuales): variable numérica que indica los ingresos anuales del cliente en rupias indias (redondeado a las 50000 rupias más cercanas).\n",
    "- FamilyMembers (miembros familiares): variable numérica que indica el número de miembros perteneciente a la familia del cliente.\n",
    "- ChronicDiseases (enfermedades crónicas): variable binaria que indica si el cliente sufre de alguna enfermedad importante o condiciones como diabetes, presión alta, asma, etc.\n",
    "- FrequentFlyer (volador frecuente): variable de texto que indica si un cliente compra frecuentemente pasajes de avión (Yes, No).\n",
    "- EverTravelledAbroad (viajó al extranjero): variable de texto que indica si el cliente viajó alguna vez a algún país extranjero (Yes, No).\n",
    "\n",
    "Todas las variables de entrada serán utilizadas, ya que consideramos que guardan relación con la variable de salida.\n",
    "\n",
    "**Variable de salida:**\n",
    "- TravelInsurance (seguro de viaje): variable binaria que indica si el cliente contrató o no el seguro de viaje. Los valores posibles que puede tener son 0 que implica que el cliente no contrató el seguro, y 1 que indica que el cliente si contrató el seguro."
   ]
  },
  {
   "cell_type": "code",
   "execution_count": null,
   "id": "78a911ac",
   "metadata": {},
   "outputs": [],
   "source": [
    "# Importamos las dependencias necesarias.\n",
    "import numpy as np\n",
    "import pandas as pd\n",
    "import matplotlib.pyplot as plt\n",
    "import seaborn as sns\n",
    "import plotly\n",
    "import plotly.express as px\n",
    "import sklearn_pandas\n",
    "from matplotlib import gridspec"
   ]
  },
  {
   "cell_type": "code",
   "execution_count": null,
   "id": "4603be9c",
   "metadata": {},
   "outputs": [],
   "source": [
    "# Importamos el dataset.\n",
    "dataset = pd.read_csv('TravelInsurancePrediction.csv')\n",
    "\n",
    "# Seleccionamos la primer columna 'Idx', como índice.\n",
    "dataset = dataset.set_index(\"Idx\")\n",
    "dataset.sample(5)"
   ]
  },
  {
   "cell_type": "code",
   "execution_count": null,
   "id": "de02aaae",
   "metadata": {},
   "outputs": [],
   "source": [
    "# Mostramos el tipo de dato de cada columna.\n",
    "dataset.dtypes"
   ]
  },
  {
   "cell_type": "code",
   "execution_count": null,
   "id": "8195f71c",
   "metadata": {},
   "outputs": [],
   "source": [
    "# Mostramos las dimensiones del dataset.\n",
    "dataset.shape"
   ]
  },
  {
   "cell_type": "markdown",
   "id": "5e0ee789",
   "metadata": {},
   "source": [
    "### 2) Análisis detallado de un conjunto de variables\n",
    "#### a. Balanceo de la variable de salida"
   ]
  },
  {
   "cell_type": "code",
   "execution_count": null,
   "id": "66e5baa7",
   "metadata": {},
   "outputs": [],
   "source": [
    "# Graficamos la distribución de la variable de salida.\n",
    "dataset.TravelInsurance.value_counts().plot.pie(autopct='%1.0f%%',figsize=(5,5))"
   ]
  },
  {
   "cell_type": "markdown",
   "id": "d5177056",
   "metadata": {},
   "source": [
    "Se puede observar en el gráfico de torta, que existe un desbalance de los valores de la variable de salida ‘TravelInsurance’, ya que el 64% de los clientes deciden no adquirir el seguro de viaje, mientras que el 36% de ellos si.   \n",
    "Este sesgo, debido a la mayor cantidad de valores 0, podría afectar el entrenamiento del modelo y la medición del rendimiento ya que este podría aprender a predecir, que en la mayoría de los casos, los clientes no comprarán el seguro, para evitar fallar en dicha predicción."
   ]
  },
  {
   "cell_type": "markdown",
   "id": "9df754b0",
   "metadata": {},
   "source": [
    "#### b. Comportamiento de las variables de entrada y su relación con la variable de salida\n",
    "##### Variable: AnnualIncome\n",
    "\n",
    "Antes que nada analizaremos la distribución de los datos de la variable. Esto es importante ya que, como podemos ver en el histograma siguiente, la cantidad de clientes que ganan más de 1.5 millones de rupias son la minoría, por lo que no deberían tener tanto peso en el análisis con respecto a la cantidad de personas que adquieren el seguro o no."
   ]
  },
  {
   "cell_type": "code",
   "execution_count": null,
   "id": "e436ff6e",
   "metadata": {},
   "outputs": [],
   "source": [
    "# Graficamos la distribución de la variable de entrada.\n",
    "px.histogram(dataset, x='AnnualIncome', title = 'Distribución')"
   ]
  },
  {
   "cell_type": "code",
   "execution_count": null,
   "id": "198bb3ce",
   "metadata": {
    "scrolled": true
   },
   "outputs": [],
   "source": [
    "# Graficamos la relación entre la variable de entrada y la de salida.\n",
    "px.histogram(dataset, x='AnnualIncome', color='TravelInsurance', barmode='group')"
   ]
  },
  {
   "cell_type": "markdown",
   "id": "17a8ea9d",
   "metadata": {},
   "source": [
    "Por otra parte, a partir de este histograma que refleja las cantidades de personas que contratan el seguro de viaje o no (TravelInsurance), con respecto a los ingresos anuales (AnnualIncome), podemos notar que existe una leve tendencia directamente proporcional entre la variable de entrada y la de salida. Si bien no es tan lineal esta relación, ya que hay ascensos y descensos, en general va creciendo la proporción de clientes que contratan y disminuyendo la proporción de los que no, a medida que aumenta el ingreso."
   ]
  },
  {
   "cell_type": "markdown",
   "id": "064d4352",
   "metadata": {},
   "source": [
    "##### Variable: Age\n",
    "En primer lugar analizaremos la distribución de los datos de la variable. En este caso, como podemos ver en el histograma, los clientes con 28 años son la mayoría (aproximadamente un cuarto del dataset). Es importante tenerlo en cuenta al comparar la edad con la variable de salida porque puede llegar a predecirla erróneamente, ya que se podría dejar influenciar por esta gran cantidad. "
   ]
  },
  {
   "cell_type": "code",
   "execution_count": null,
   "id": "a61f3132",
   "metadata": {},
   "outputs": [],
   "source": [
    "# Graficamos la distribución de la variable de entrada.\n",
    "px.histogram(dataset, x='Age', title = 'Distribución')"
   ]
  },
  {
   "cell_type": "code",
   "execution_count": null,
   "id": "beadef76",
   "metadata": {
    "scrolled": true
   },
   "outputs": [],
   "source": [
    "# Graficamos la relación entre la variable de entrada y la de salida.\n",
    "px.histogram(dataset, x='Age', color='TravelInsurance', barmode='group')"
   ]
  },
  {
   "cell_type": "markdown",
   "id": "de5f9ac0",
   "metadata": {},
   "source": [
    "Con respecto a la edad de los clientes (Age) y teniendo en cuenta el histograma, podemos concluir que esta variable de entrada no mantiene una relación con la variable de salida (TravelInsurance), ya que en el gráfico no se observa ninguna tendencia. Esto quiere decir que la contratación de un seguro de viaje no va a depender, en gran medida, de la edad de los clientes de este dataset. Podríamos suponer, que esto puede deberse, en parte, a que la franja etaria que presenta el conjunto de datos es reducida, y no sabríamos por ejemplo, si un anciano contrataría o no un seguro en función de su edad.  \n",
    "Por otro lado, sí pudimos notar un aumento de la cantidad de clientes de 28 años que no compran el seguro, pero esto puede ser debido a la distribución de la variable, como mencionamos anteriormente."
   ]
  },
  {
   "cell_type": "markdown",
   "id": "dd30bb28",
   "metadata": {},
   "source": [
    "##### Variable: ChronicDiseases\n",
    "Para analizar la distribución de esta variable debemos observar el siguiente gráfico. A partir de él podemos notar que el 28% de personas presentan enfermedades crónicas, mientras que el 72% no. Esto demuestra que hay un desbalance en dicha variable, lo cual puede influir en el análisis de esta, con respecto a la variable de salida."
   ]
  },
  {
   "cell_type": "code",
   "execution_count": null,
   "id": "82486b3d",
   "metadata": {},
   "outputs": [],
   "source": [
    "# Graficamos la distribución de la variable de entrada.\n",
    "dataset.ChronicDiseases.value_counts().plot.pie(autopct='%1.0f%%',figsize=(5,5), title = 'Distribución')"
   ]
  },
  {
   "cell_type": "code",
   "execution_count": null,
   "id": "facf5446",
   "metadata": {
    "scrolled": true
   },
   "outputs": [],
   "source": [
    "# Graficamos la relación entre la variable de entrada y la de salida.\n",
    "fig1 = plt.figure(constrained_layout=True, figsize = (10,10))\n",
    "spec1 = gridspec.GridSpec(ncols=2, nrows=1, figure=fig1)\n",
    "f1_ax1 = fig1.add_subplot(spec1[0,0])\n",
    "f1_ax2 = fig1.add_subplot(spec1[0,1])\n",
    "dataset[dataset.ChronicDiseases==0].TravelInsurance.value_counts().plot.pie(autopct='%1.0f%%', ax=f1_ax1, title='No sufre enfermedades', figsize=(7,7))\n",
    "dataset[dataset.ChronicDiseases==1].TravelInsurance.value_counts().plot.pie(autopct='%1.0f%%', ax=f1_ax2, title='Sufre enfermedades', figsize=(7,7))"
   ]
  },
  {
   "cell_type": "markdown",
   "id": "83cdb355",
   "metadata": {},
   "source": [
    "Sin embargo, esta variable de entrada (ChronicDiseases) no presenta una relación directa con respecto a la variable de salida (TravelInsurance). Esto lo podemos observar en los gráficos de torta, ya que el porcentaje de personas que contratan el seguro o no, varía muy poco si los clientes presentan enfermedades crónicas o no. El gráfico ‘No sufre enfermedades’ que relaciona las personas enfermas con la contratación o no del seguro mantiene una relación de 65% de que no contrata y 35% de que si contrata. Y por otro lado el gráfico ‘Sufre enfermedades’ que relaciona las personas sanas con la contratación o no del seguro mantiene una relación de 63% de que no contrata y 37% de que si contrata. Como se puede ver, solo hay una diferencia del 2% entre un gráfico y otro."
   ]
  },
  {
   "cell_type": "markdown",
   "id": "f2989074",
   "metadata": {},
   "source": [
    "##### Variable: FrequentFlyer\n",
    "Antes que nada debemos analizar la distribución de esta variable. Observando el gráfico siguiente podemos notar que hay un desbalance, ya que el 79% de los clientes no son voladores frecuentes y el 21% si. Esta diferencia puede llegar a influenciar en la relación de dicha variable de entrada con respecto a la variable de salida, pudiendo generar predicciones no tan precisas."
   ]
  },
  {
   "cell_type": "code",
   "execution_count": null,
   "id": "c0db59ab",
   "metadata": {},
   "outputs": [],
   "source": [
    "# Graficamos la distribución de la variable de entrada.\n",
    "dataset.FrequentFlyer.value_counts().plot.pie(autopct='%1.0f%%',figsize=(5,5), title = 'Distribución')"
   ]
  },
  {
   "cell_type": "markdown",
   "id": "fa7a0072",
   "metadata": {},
   "source": [
    "Esta variable de entrada (FrequentFlyer) no presenta una gran relación con respecto a la variable de salida (TravelInsurance). Sin embargo, como podemos observar en el gráfico de torta ‘No vuela frecuentemente’, solo el 30% de los clientes adquieren el seguro, mientras que el 70% no. Esto quiere decir que hay una leve tendencia entre los clientes que no son voladores frecuentes y el hecho de que no compran el seguro (cabe aclarar que esto puede verse influenciado por el desbalance explicado anteriormente).  \n",
    "No obstante, esta relación no se refleja en el gráfico ‘Es volador frecuente’ ya que casi la mitad de las personas contrata el seguro (43%) y un poco más de la otra mitad no (57%)."
   ]
  },
  {
   "cell_type": "code",
   "execution_count": null,
   "id": "c142fef8",
   "metadata": {},
   "outputs": [],
   "source": [
    "# Graficamos la relación entre la variable de entrada y la de salida.\n",
    "fig2 = plt.figure(constrained_layout=True, figsize = (10,10))\n",
    "spec2 = gridspec.GridSpec(ncols=2, nrows=1, figure=fig2)\n",
    "f2_ax1 = fig2.add_subplot(spec2[0,0])\n",
    "f2_ax2 = fig2.add_subplot(spec2[0,1])\n",
    "\n",
    "dataset[dataset.FrequentFlyer=='Yes'].TravelInsurance.value_counts().plot.pie(autopct='%1.0f%%', ax=f2_ax1, figsize=(7,7), title='Vuela frecuentemente')\n",
    "dataset[dataset.FrequentFlyer=='No'].TravelInsurance.value_counts().plot.pie(autopct='%1.0f%%', ax=f2_ax2, figsize=(7,7), title='No vuela frecuentemente')"
   ]
  },
  {
   "cell_type": "markdown",
   "id": "46946060",
   "metadata": {},
   "source": [
    "##### Variable: EverTravelledAbroad\n",
    "En primer lugar debemos analizar la distribución de esta variable. Observando el gráfico siguiente podemos notar que hay un desbalance en los valores, ya que el 81% de los clientes no son voladores frecuentes y el 19% si. Esta diferencia puede llegar a influenciar en la relación de dicha variable de entrada con respecto a la variable de salida, pudiendo generar predicciones un tanto imprecisas."
   ]
  },
  {
   "cell_type": "code",
   "execution_count": null,
   "id": "dbf8ec70",
   "metadata": {
    "scrolled": true
   },
   "outputs": [],
   "source": [
    "# Graficamos la distribución de la variable de entrada.\n",
    "dataset.EverTravelledAbroad.value_counts().plot.pie(autopct='%1.0f%%',figsize=(5,5), title = 'Distribución')"
   ]
  },
  {
   "cell_type": "markdown",
   "id": "ff189f2c",
   "metadata": {},
   "source": [
    "Esta variable de entrada (EverTravelledAbroad) presenta una relación con respecto a la variable de salida (TravelInsurance) como podemos observar en el histograma, ya que de los clientes que alguna vez salieron del país, la gran mayoría adquieren el seguro, mientras que de los clientes que no salieron del país, una buena parte no adquiere el seguro. Esto quiere decir que hay una leve tendencia entre los que sí salieron del país y si compraron el seguro, y por otro lado entre los clientes que nunca salieron del país y el hecho de que no compraron el seguro. Esta última tendencia puede llegar a verse influenciada por el desbalance en la variable de entrada explicado anteriormente."
   ]
  },
  {
   "cell_type": "code",
   "execution_count": null,
   "id": "aa17ca1a",
   "metadata": {
    "scrolled": true
   },
   "outputs": [],
   "source": [
    "# Graficamos la relación entre la variable de entrada y la de salida.\n",
    "px.histogram(dataset, x='EverTravelledAbroad', color='TravelInsurance', barmode='group')"
   ]
  },
  {
   "cell_type": "markdown",
   "id": "2871a76b",
   "metadata": {},
   "source": [
    "#### c. Transformaciones sobre las variables de entrada\n",
    "En general los nombres de las variables son bastante descriptivas, pero decidimos que las renombraremos para reemplazar las mayúsculas por minúsculas e incorporar el guión bajo, con el objetivo de respetar el formato de escritura. Además, la variable 'Employment Type' presenta un espacio entre palabras, lo cual debe eliminarse ya que generaría problemas a la hora de utilizarla.    "
   ]
  },
  {
   "cell_type": "code",
   "execution_count": null,
   "id": "722dd2eb",
   "metadata": {},
   "outputs": [],
   "source": [
    "# Para este TP solo eliminamos el espacio mencionado.\n",
    "dataset = dataset.rename(columns={'Employment Type':'EmploymentType'})\n",
    "dataset.EmploymentType.describe()"
   ]
  },
  {
   "cell_type": "markdown",
   "id": "35a3d135",
   "metadata": {},
   "source": [
    "**Con respecto a cada variable:**\n",
    "##### Variable: Age\n",
    "Una opción considerada es agrupar las edades en rangos de a 5 o de a 10 años, lo cual sería útil, ya que una persona con 21 y otra con 22 años no representa una diferencia significativa en algunos casos y se evitaría que el modelo haga asociaciones erróneas. Sin embargo, descartamos esta opción porque las edades van desde los 25 hasta los 35 y en este caso, un par de años pueden marcar una diferencia, ya que el rango etario es reducido. Por otra parte, cómo este campo está expresado en valores chicos (comparado con el campo de ingresos anuales) decidimos escalar entre valores de 0 y 1."
   ]
  },
  {
   "cell_type": "code",
   "execution_count": null,
   "id": "c5040e88",
   "metadata": {
    "scrolled": true
   },
   "outputs": [],
   "source": [
    "# Mostramos las característocas de la variable.\n",
    "dataset.Age.describe()"
   ]
  },
  {
   "cell_type": "markdown",
   "id": "2cf4d256",
   "metadata": {},
   "source": [
    "##### Variable: EmploymentType\n",
    "Como se trata de un columna de categorías, podríamos optar por implementar One Hot Encoder. No obstante, como sólo se trata de dos categorías, consideramos que es más simple convertir una sola de las categorías en una columna binaria que indique 1 si es empleado gubernamental, o 0 si es privado/independiente (no es gubernamental)."
   ]
  },
  {
   "cell_type": "markdown",
   "id": "8ad525dd",
   "metadata": {},
   "source": [
    "##### Variable: GraduateOrNot\n",
    "Como representa un valor binario, pero está en texto, optamos por transformarla en una columna binaria (0 y 1)."
   ]
  },
  {
   "cell_type": "markdown",
   "id": "16b236e6",
   "metadata": {},
   "source": [
    "##### Variable: AnnualIncome\n",
    "Cómo este campo está expresado en valores muy grandes (comparado con los campos de edad y cantidad de familiares) decidimos escalar entre valores de 0 y 1."
   ]
  },
  {
   "cell_type": "code",
   "execution_count": null,
   "id": "0a1844c2",
   "metadata": {
    "scrolled": true
   },
   "outputs": [],
   "source": [
    "# Mostramos las característocas de la variable.\n",
    "dataset.AnnualIncome.describe().apply(lambda x: format(x, 'f'))"
   ]
  },
  {
   "cell_type": "markdown",
   "id": "a4474036",
   "metadata": {},
   "source": [
    "##### Variable: FamilyMembers\n",
    "Como este campo está expresado en valores chicos (comparado con el campo de ingresos anuales) decidimos escalar entre valores de 0 y 1."
   ]
  },
  {
   "cell_type": "code",
   "execution_count": null,
   "id": "3a78bfde",
   "metadata": {},
   "outputs": [],
   "source": [
    "# Mostramos las característocas de la variable.\n",
    "dataset.FamilyMembers.describe()"
   ]
  },
  {
   "cell_type": "markdown",
   "id": "e4535ba8",
   "metadata": {},
   "source": [
    "##### Variable: ChronicDiseases\n",
    "Optamos por no transformarla, ya que se trata de una variable binaria correctamente representada.  \n",
    "\n",
    "##### Variable: FrequentFlyer\n",
    "Como representa un valor binario, pero está en texto, optamos por transformarla en una columna binaria (0 y 1).  \n",
    "\n",
    "##### Variable: EverTravelledAbroad\n",
    "Como representa un valor binario, pero está en texto, optamos por transformarla en una columna binaria (0 y 1).\n"
   ]
  },
  {
   "cell_type": "markdown",
   "id": "e392c7a1",
   "metadata": {},
   "source": [
    "#### d. Valores null, valores extremos y otros\n",
    "Como ninguna de las variables de entrada presentan valores nulos, no debemos aplicar ningún tratamiento."
   ]
  },
  {
   "cell_type": "code",
   "execution_count": null,
   "id": "be53d9ce",
   "metadata": {
    "scrolled": true
   },
   "outputs": [],
   "source": [
    "# Sumamos la cantidad de valores null por cada variable.\n",
    "dataset.isnull().sum()"
   ]
  },
  {
   "cell_type": "markdown",
   "id": "0503877f",
   "metadata": {},
   "source": [
    "Para el caso de los valores extremos, tampoco debemos aplicar tratamientos, ya que no se presentan en ninguno de los campos numéricos. Esto lo podemos comprobar en los siguientes gráficos que muestran la distribución de los valores."
   ]
  },
  {
   "cell_type": "code",
   "execution_count": null,
   "id": "fe820755",
   "metadata": {},
   "outputs": [],
   "source": [
    "# Convertimos en array al campo Age.\n",
    "ages = np.array(dataset.Age)\n",
    "\n",
    "# Armamos un diagrama de dispersión con la variable Age.\n",
    "ages_unique, counts = np.unique(ages, return_counts = True)\n",
    "size = counts * 3\n",
    "colors = ['blue'] * len(ages_unique)\n",
    "plt.axhline(1,color='k',linestyle='--')\n",
    "plt.scatter(ages_unique,np.ones(len(ages_unique)),s=size,color=colors)\n",
    "plt.yticks([])\n",
    "plt.show()"
   ]
  },
  {
   "cell_type": "code",
   "execution_count": null,
   "id": "e27097c3",
   "metadata": {},
   "outputs": [],
   "source": [
    "# Convertimos en array a la variable AnnualIncome.\n",
    "incomes = np.array(dataset.AnnualIncome)\n",
    "\n",
    "# Armamos un diagrama de dispersión con la variable AnnualIncome.\n",
    "incomes_unique, counts = np.unique(incomes, return_counts = True)\n",
    "size = counts * 8\n",
    "colors = ['blue'] * len(incomes_unique)\n",
    "plt.axhline(1,color='k',linestyle='--')\n",
    "plt.scatter(incomes_unique,np.ones(len(incomes_unique)),s=size,color=colors)\n",
    "plt.yticks([])\n",
    "plt.show()"
   ]
  },
  {
   "cell_type": "code",
   "execution_count": null,
   "id": "762678e0",
   "metadata": {
    "scrolled": true
   },
   "outputs": [],
   "source": [
    "# Convertimos en array a la variable FamilyMembers.\n",
    "familyMembers = np.array(dataset.FamilyMembers)\n",
    "\n",
    "# Armamos un diagrama de dispersión con la variable FamilyMembers.\n",
    "familyMembers_unique, counts = np.unique(familyMembers, return_counts = True)\n",
    "size = counts * 8\n",
    "colors = ['blue'] * len(familyMembers_unique)\n",
    "plt.axhline(1,color='k',linestyle='--')\n",
    "plt.scatter(familyMembers_unique,np.ones(len(familyMembers_unique)),s=size,color=colors)\n",
    "plt.yticks([])\n",
    "plt.show()"
   ]
  },
  {
   "cell_type": "markdown",
   "id": "c29f2bc6",
   "metadata": {},
   "source": [
    "Podemos agregar que no será necesario eliminar columnas duplicadas porque no hay.\n",
    "Tampoco será necesario eliminar filas duplicadas, ya que debido a la estructura de este dataset, descartar filas que son iguales podría llegar a eliminar conocimiento útil para el modelo, porque a pesar de que pueda haber mas de una fila con los mismos valores, estos podrían tratarse de datos de clientes diferentes."
   ]
  },
  {
   "cell_type": "markdown",
   "id": "81f9a5c1",
   "metadata": {},
   "source": [
    "#### e. Variables altamente correlacionadas con la variable \"target\""
   ]
  },
  {
   "cell_type": "code",
   "execution_count": null,
   "id": "cf89b5a4",
   "metadata": {},
   "outputs": [],
   "source": [
    "# Aplicamos las transformaciones necesarias a las variables para poder graficar un mapa de calor.\n",
    "dataset[\"GraduateOrNot\"] = dataset.GraduateOrNot.replace(['No', 'Yes'], [0,1])\n",
    "dataset[\"FrequentFlyer\"] = dataset.FrequentFlyer.replace(['No', 'Yes'], [0,1])\n",
    "dataset[\"EverTravelledAbroad\"] = dataset.EverTravelledAbroad.replace(['No', 'Yes'], [0,1])\n",
    "dataset[\"EmploymentType\"] = dataset.EmploymentType.replace(['Private Sector/Self Employed', 'Government Sector'], [0,1])\n",
    "\n",
    "# Graficamos un mapa de calor.\n",
    "plt.figure(figsize = (8,8))\n",
    "sns.heatmap(dataset.corr(),annot=True, cmap='RdYlGn', linewidths=0.2)\n"
   ]
  },
  {
   "cell_type": "markdown",
   "id": "5edee060",
   "metadata": {},
   "source": [
    "A partir del mapa de calor realizado, podemos observar el nivel de correlación existente entre las variables del problema. Podemos ver que, en realidad, no hay variables que tengan una fuerte correlación con el target, pero sí hay algunas que se diferencian de las demás: \n",
    "- En primer lugar tenemos a la variable ‘EverTravelledAbroad’ que presenta una correlación del 0,43 con respecto a ‘TravelInsurance’, lo que quiere decir que mantiene una relación directa o positiva con dicha variable de salida, que implica que si un cliente alguna vez viajó al exterior, sus probabilidades de comprar el seguro suben.\n",
    "- En segundo lugar podemos mencionar a la variable ‘AnnualIncome’ que presenta una correlación del 0,4 con respecto a ‘TravelInsurance’, lo que quiere decir que, al igual que con la variable anterior, mantiene una relación directa o positiva con dicha variable de salida. En este caso, implica que cuanto más sean los ingresos anuales de un cliente, más serán sus probabilidades de comprar el seguro.\n",
    "- En tercer lugar encontramos a la variable ‘FrequentFlyer’ que presenta una correlación menor que las anteriores con respecto al target, específicamente con un valor del 0,23. También mantiene una relación directa o positiva con dicha variable de salida, lo que implica que si se considera que un cliente viaja frecuentemente, sus probabilidades de comprar el seguro aumentan, pero en menor medida que las variables anteriores.\n",
    "- Finalmente tenemos a la variable ‘EmploymentType’ que presenta una correlación incluso menor que la anterior, puntualmente con un valor del -0,15 con respecto a ‘TravelInsurance’. A diferencia de las demás, mantiene una relación inversa o negativa con dicha variable de salida. Recordando que 0 representa que un cliente trabaja en el sector privado y 1 en el sector público, podríamos decir que si un cliente es trabajador público, sus probabilidades de comprar el seguro disminuyen."
   ]
  },
  {
   "cell_type": "markdown",
   "id": "d9069199",
   "metadata": {},
   "source": [
    "### 3) Hipótesis sobre los datos  \n",
    "  \n",
    "#### a. Formular hipótesis sobre la variable target bajo determinadas condiciones  \n",
    "\n",
    "*Hipótesis 1:* Los clientes que presentan mayores niveles de ingresos anuales y que alguna vez viajaron al exterior, tienen una mayor tendencia a contratar el seguro de viaje ofrecido por la empresa.  \n",
    "*Hipótesis 2:* Los clientes que no presentan mayores niveles de ingresos anuales y que nunca viajaron al exterior, tienen una menor tendencia a contratar el seguro de viaje ofrecido por la empresa.\n",
    "\n",
    "*Hipótesis 3:* Los clientes que presentan alguna enfermedad crónica y a su vez, son voladores frecuentes, es decir que viajan seguido, tienen una mayor tendencia a contratar el seguro de viaje ofrecido por la empresa.  \n",
    "*Hipótesis 4:* Los clientes que no presentan alguna enfermedad crónica y tampoco son voladores frecuentes, es decir que no viajan seguido, tienen una menor tendencia a contratar el seguro de viaje ofrecido por la empresa.\n",
    "  \n",
    "#### b. Comprobar las hipótesis  \n",
    "\n",
    "##### Hipótesis 1  y 2\n",
    "Para verificar estas hipótesis calculamos el punto a partir del cual podremos filtrar los datos según el nivel de ingresos anuales. Luego agregamos una columna binaria al dataset que indique, en función de esto, si un cliente tiene ingresos altos y también si alguna vez viajó al exterior.  \n",
    "Esta última columna la utilizaremos para poder visualizar a través de histogramas de, entre quienes contrataron el seguro, cuántos cumplen con las condiciones necesarias para tener el valor 1 en la misma; y por otra parte, de los que no contrataron el seguro, cuántos no cumplen con las condiciones necesarias para tener el valor 1 en la misma."
   ]
  },
  {
   "cell_type": "code",
   "execution_count": null,
   "id": "8e5603f0",
   "metadata": {},
   "outputs": [],
   "source": [
    "# Calculamos el punto a partir del cual los ingresos son altos.\n",
    "income_point = ((dataset['AnnualIncome'].max() - dataset['AnnualIncome'].min())/3)*2\n",
    "\n",
    "# Definimos una función para determinar si un cliente tiene ingresos altos y si alguna vez viajó al exterior.\n",
    "def two_conditions_h1(row):\n",
    "    if (row['AnnualIncome'] >= income_point) & (row['EverTravelledAbroad'] == True):\n",
    "        return 1\n",
    "    else:\n",
    "        return 0\n",
    "\n",
    "# Creamos y agregamos una columna nueva al dataset con la función anterior.\n",
    "HigherIncomeAndTravelledAbroad = dataset.apply(two_conditions_h1, axis=1)\n",
    "dataset['HigherIncomeAndTravelledAbroad'] = HigherIncomeAndTravelledAbroad\n",
    "\n",
    "dataset.sample(10)"
   ]
  },
  {
   "cell_type": "code",
   "execution_count": null,
   "id": "89779968",
   "metadata": {
    "scrolled": true
   },
   "outputs": [],
   "source": [
    "# Graficamos histogramas que muestren la relación entre la nueva columna y el target.\n",
    "fig3 = plt.figure(constrained_layout=True, figsize = (15,15))\n",
    "spec3 = gridspec.GridSpec(ncols=2, nrows=1, figure=fig3)\n",
    "f3_ax1 = fig3.add_subplot(spec3[0,0])\n",
    "f3_ax2 = fig3.add_subplot(spec3[0,1])\n",
    "dataset[dataset.TravelInsurance==1].HigherIncomeAndTravelledAbroad.value_counts().sort_index().plot.bar(ax=f3_ax1, figsize=(7,7), title='Compran seguro')\n",
    "dataset[dataset.TravelInsurance==0].HigherIncomeAndTravelledAbroad.value_counts().sort_index().plot.bar(ax=f3_ax2, figsize=(7,7), title='No compran seguro')"
   ]
  },
  {
   "cell_type": "markdown",
   "id": "ff969b54",
   "metadata": {},
   "source": [
    "En primer lugar, mirando el mapa de calor realizado anteriormente, podemos sospechar que estas hipótesis podrían acercarse a ser verdaderas debido a que las variables involucradas presentan los mayores valores de correlación con la variable target.  \n",
    "Sin embargo, a partir de los histogramas, podemos observar que la hipótesis 1 no se cumple mientras que la 2 sí lo hace. En el primer gráfico vemos que de las personas que contratan el seguro, la mayoría no cumplen con la doble condición de tener ingresos altos y haber viajado al exterior alguna vez; mientras que en el segundo histograma, de las personas que no contratan el seguro, la mayor parte nunca salió del país ni posee altos ingresos anuales. Lo lógico sería pensar, que la primer hipótesis también debería cumplirse, pero podemos suponer que ésto no ocurre debido a que la cantidad de personas que cumplen esas condiciones son la minoría, pudiendo llegar a provocar un desbalance en el análisis."
   ]
  },
  {
   "cell_type": "markdown",
   "id": "373e7bb8",
   "metadata": {},
   "source": [
    "##### Hipótesis 3 y 4  \n",
    "Para verificar estas hipótesis, trabajamos de manera similar que para las anteriores. También agregamos una columna binaria al dataset, pero en este caso, que indique si un cliente sufre enfermedades crónicas y también si es volador frecuente.  \n",
    "Esta última columna la utilizaremos para poder visualizar a través de histogramas de, entre quienes contrataron el seguro, cuántos cumplen con las condiciones necesarias para tener el valor 1 en la misma; y por otra parte, de los que no contrataron el seguro, cuántos no cumplen con las condiciones necesarias para tener el valor 1 en la misma."
   ]
  },
  {
   "cell_type": "code",
   "execution_count": null,
   "id": "ee6f2e24",
   "metadata": {},
   "outputs": [],
   "source": [
    "# Definimos una función para determinar si un cliente sufre de enfermedades crónicas y si vuela frecuentemente.\n",
    "def two_conditions_h2(row):\n",
    "    if (row['ChronicDiseases'] == True) & (row['FrequentFlyer'] == True):\n",
    "        return 1\n",
    "    else:\n",
    "        return 0\n",
    "\n",
    "# Creamos y agregamos una columna nueva al dataset con la función anterior.\n",
    "ChronicDiseasesAndFrequentFlyer = dataset.apply(two_conditions_h2, axis=1)\n",
    "dataset['ChronicDiseasesAndFrequentFlyer'] = ChronicDiseasesAndFrequentFlyer\n",
    "\n",
    "dataset.sample(10)"
   ]
  },
  {
   "cell_type": "code",
   "execution_count": null,
   "id": "4bdc9dff",
   "metadata": {
    "scrolled": true
   },
   "outputs": [],
   "source": [
    "# Graficamos histogramas que muestren la relación entre la nueva columna y el target.\n",
    "fig4 = plt.figure(constrained_layout=True, figsize = (15,15))\n",
    "spec4 = gridspec.GridSpec(ncols=2, nrows=1, figure=fig4)\n",
    "f4_ax1 = fig4.add_subplot(spec4[0,0])\n",
    "f4_ax2 = fig4.add_subplot(spec4[0,1])\n",
    "dataset[dataset.TravelInsurance==1].ChronicDiseasesAndFrequentFlyer.value_counts().sort_index().plot.bar(ax=f4_ax1, figsize=(7,7), title='Compran seguro')\n",
    "dataset[dataset.TravelInsurance==0].ChronicDiseasesAndFrequentFlyer.value_counts().sort_index().plot.bar(ax=f4_ax2, figsize=(7,7), title='No compran seguro')"
   ]
  },
  {
   "cell_type": "markdown",
   "id": "8a82b25f",
   "metadata": {},
   "source": [
    "A partir de los histogramas, podemos observar, al igual que para las hipótesis 1 y 2, que la hipótesis 3 no se cumple mientras que la 4 sí lo hace. En el primer gráfico vemos que de las personas que contratan el seguro, la mayoría no cumple con la doble condición de tener enfermedades crónicas y ser volador frecuente; mientras que en el segundo histograma, de las personas que no contratan el seguro, la mayor parte no posee enfermedades crónicas ni tampoco son voladores frecuentes. Lo lógico sería pensar, que la hipótesis 3 también debería cumplirse, pero podemos suponer que ésto no ocurre debido a que la cantidad de personas que cumplen esas condiciones son la minoría, pudiendo llegar a provocar un desbalance en el análisis (de la misma forma que en los casos anteriores)."
   ]
  },
  {
   "cell_type": "markdown",
   "id": "08bfd1e6",
   "metadata": {},
   "source": [
    "#### c. Hallazgo y su impacto  \n",
    "Podemos concluir que el dataset en general presenta un muy alto nivel de desbalance para la mayoría de sus variables, como pudimos ir observando a medida que analizamos la distribución de las mismas, por ejemplo:  \n",
    "- GraduateOrNot: 15% = 0 / 85% = 1.\n",
    "- EverTravelledAbroad: 81% = 0 / 19% = 1.\n",
    "- FrequentFlyer: 79% = 0 / 21% = 1. \n",
    " \n",
    "Esto podría afectar en la creación de un modelo de predicción, ya que al tener tantas observaciones de ciertos casos y tan de pocas de otros, esto influirá en el proceso de generalización de la información, provocando un “mal aprendizaje” y perjudicando a las clases minoritarias, aumentando el nivel de error en las predicciones y empeorando el valor entregado por las métricas utilizadas para evaluar la calidad del modelo."
   ]
  },
  {
   "cell_type": "code",
   "execution_count": null,
   "id": "f6b79b3a",
   "metadata": {},
   "outputs": [],
   "source": [
    "# Graficamos la distribución de las variables mencionadas.\n",
    "fig5 = plt.figure(constrained_layout=True, figsize = (20,20))\n",
    "spec5 = gridspec.GridSpec(ncols=3, nrows=1, figure=fig5)\n",
    "f5_ax1 = fig5.add_subplot(spec5[0,0])\n",
    "f5_ax2 = fig5.add_subplot(spec5[0,1])\n",
    "f5_ax3 = fig5.add_subplot(spec5[0,2])\n",
    "dataset.GraduateOrNot.value_counts().plot.pie(autopct='%1.0f%%', ax=f5_ax1, figsize=(8,8), title='Distribución')\n",
    "dataset.EverTravelledAbroad.value_counts().plot.pie(autopct='%1.0f%%', ax=f5_ax2, figsize=(8,8), title='Distribución')\n",
    "dataset.FrequentFlyer.value_counts().plot.pie(autopct='%1.0f%%', ax=f5_ax3, figsize=(8,8), title='Distribución')"
   ]
  }
 ],
 "metadata": {
  "kernelspec": {
   "display_name": "Python 3 (ipykernel)",
   "language": "python",
   "name": "python3"
  },
  "language_info": {
   "codemirror_mode": {
    "name": "ipython",
    "version": 3
   },
   "file_extension": ".py",
   "mimetype": "text/x-python",
   "name": "python",
   "nbconvert_exporter": "python",
   "pygments_lexer": "ipython3",
   "version": "3.9.7"
  }
 },
 "nbformat": 4,
 "nbformat_minor": 5
}
